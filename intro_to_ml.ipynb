{
 "cells": [
  {
   "cell_type": "markdown",
   "metadata": {
    "id": "WnZRZ3LjdcCM"
   },
   "source": [
    "# Intro to Machine Learning \n",
    "Brady Bogda\n",
    "\n",
    "Dec 2021"
   ]
  },
  {
   "cell_type": "markdown",
   "metadata": {
    "id": "QbDELbv8byRc"
   },
   "source": [
    "# Uses Ames Housing Dataset as part of Kaggle Competition\n",
    "**Kaggle Competition - House Prices:** https://www.kaggle.com/c/house-prices-advanced-regression-techniques/overview\n",
    "\n",
    "---\n",
    "\n"
   ]
  },
  {
   "cell_type": "markdown",
   "metadata": {
    "id": "5ZV45NOvf3e8"
   },
   "source": [
    "# **Introduction:** What is Machine Learning\n",
    "\n",
    "\n",
    "> Machine learning is a process of building a program that has the ability to \"learn\" without being explcity programmed. An iterative approach allows the program to optimize specific parameters by running through training data, such that it will be able make insights on new data (data not part of the training set)\n",
    "\n",
    ">Machine learning can be used to solve many types of problems including supervised and unsupervised tasks. In a supervised tasks, the training data you feed the algorithm inlcudes the desired solutions, called labels. The model will learn how to predict these labels or target values.\n",
    ">> In supervised classification the program gets instances (instance is one piece of data) and predicts a class or the group that it belongs to, such as classifying an email as spam. Supervised regression predicts a number or value for each instance. In this guide I'll walk you through a regressions model that predicts housing prices based on various fields. \n",
    "\n",
    "> An unsupervised task in contrast does not receive the desired outputs when training. Common unsupervised tasks include:\n",
    ">> Clustering, where the model puts instances into groups; anomaly and novelty detection, where the model predicts whether an instance belongs into a group; and dimensionality reductions, a method of simplifying datasets to better train other models."
   ]
  },
  {
   "cell_type": "markdown",
   "metadata": {
    "id": "kiuW8FFRfEH_"
   },
   "source": [
    "# **Importing the Data:**\n",
    "\n",
    "> After the problem has been identified, the first step to building a machine learning model is aquiring the data. A portion of the data will go towards training the model (the training set), and another portion will go towards evaluating the model after it‘s been trained (called the test set). It's important to keep these separated. If you test the model on data that was used to train the model you may receive an unrealistic estimate of how well the model performs. We want to know how well our model generalizes, and not how well it does on our subset of data. \n",
    "\n",
    "> This dataset was a part of a Kaggle Competition, so you can either download it using the kaggle api or from the link at the top of the page. You'll need an access key from your account (find in settings)"
   ]
  },
  {
   "cell_type": "markdown",
   "metadata": {
    "id": "S-mMvcnllR6y"
   },
   "source": [
    "#### `Linking Kaggle Account`"
   ]
  },
  {
   "cell_type": "code",
   "execution_count": 1,
   "metadata": {
    "id": "hdBhuQYobcHo",
    "tags": [
     "hide-input"
    ]
   },
   "outputs": [],
   "source": [
    "!mkdir ~/.kaggle"
   ]
  },
  {
   "cell_type": "code",
   "execution_count": null,
   "metadata": {
    "cellView": "form",
    "id": "q3i_v_Zucmpn",
    "tags": [
     "hide-input"
    ]
   },
   "outputs": [],
   "source": [
    "!echo '{\"username\": \"<username>\",\"key\":\"<access_key>\"}' > /root/.kaggle/kaggle.json"
   ]
  },
  {
   "cell_type": "code",
   "execution_count": 3,
   "metadata": {
    "id": "Ykrc_hjbe6UG"
   },
   "outputs": [],
   "source": [
    "!chmod 600 /root/.kaggle/kaggle.json"
   ]
  },
  {
   "cell_type": "markdown",
   "metadata": {
    "id": "H9c_PimQ1dLX"
   },
   "source": [
    "#### `Downloading Data`"
   ]
  },
  {
   "cell_type": "code",
   "execution_count": 4,
   "metadata": {
    "colab": {
     "base_uri": "https://localhost:8080/"
    },
    "id": "W37l2i_te-XS",
    "outputId": "9b3099e0-60ef-4546-9ec6-eb250cc6fb15"
   },
   "outputs": [
    {
     "name": "stdout",
     "output_type": "stream",
     "text": [
      "Warning: Looks like you're using an outdated API Version, please consider updating (server 1.5.12 / client 1.5.4)\n",
      "Downloading test.csv to /content\n",
      "\r",
      "  0% 0.00/441k [00:00<?, ?B/s]\n",
      "100% 441k/441k [00:00<00:00, 29.9MB/s]\n",
      "Downloading sample_submission.csv to /content\n",
      "  0% 0.00/31.2k [00:00<?, ?B/s]\n",
      "100% 31.2k/31.2k [00:00<00:00, 31.8MB/s]\n",
      "Downloading data_description.txt to /content\n",
      "  0% 0.00/13.1k [00:00<?, ?B/s]\n",
      "100% 13.1k/13.1k [00:00<00:00, 12.8MB/s]\n",
      "Downloading train.csv to /content\n",
      "  0% 0.00/450k [00:00<?, ?B/s]\n",
      "100% 450k/450k [00:00<00:00, 69.3MB/s]\n"
     ]
    }
   ],
   "source": [
    "!kaggle competitions download house-prices-advanced-regression-techniques"
   ]
  },
  {
   "cell_type": "code",
   "execution_count": 5,
   "metadata": {
    "id": "LD98KckrfMku"
   },
   "outputs": [],
   "source": [
    "#importing libraries for project \n",
    "\n",
    "import pandas as pd #imports pandas, a python library for data analysis and manipulation\n",
    "import numpy as np #imports numpy, a library for managing large high dimensional arrays and matrices\n",
    "import sklearn #imports scikit learn, a library with multiple machine learning models"
   ]
  },
  {
   "cell_type": "code",
   "execution_count": null,
   "metadata": {
    "id": "_b281ivsfUts"
   },
   "outputs": [],
   "source": [
    "#using pandas, imports training and test dataset from a csv, to a pandas DataFrame\n",
    "#note this test set does not included labels, you can upload you predictions to Kaggle to get the you model performance\n",
    "# they hide this because the data is part of a competition\n",
    "\n",
    "housing = pd.read_csv('train.csv') \n",
    "test = pd.read_csv('test.csv')"
   ]
  },
  {
   "cell_type": "code",
   "execution_count": null,
   "metadata": {
    "id": "PP5zrbEjfc9g"
   },
   "outputs": [],
   "source": [
    "#separats the target output, the labels, from the training data\n",
    "#good practice to ensure the labels are not used in training\n",
    "\n",
    "prices = housing['SalePrice'] #copies label column to its own pandas series\n",
    "features_full = housing.drop('SalePrice', axis=1) #drops the label column from the training data"
   ]
  },
  {
   "cell_type": "markdown",
   "metadata": {
    "id": "CEZsLBZSb8lr"
   },
   "source": [
    "#### `Exploring Data`"
   ]
  },
  {
   "cell_type": "code",
   "execution_count": 8,
   "metadata": {
    "colab": {
     "base_uri": "https://localhost:8080/",
     "height": 253
    },
    "id": "RFCIb0QucBH_",
    "outputId": "f82aaef8-2daa-490f-c693-1f543e7aa88a"
   },
   "outputs": [
    {
     "data": {
      "text/html": [
       "<div>\n",
       "<style scoped>\n",
       "    .dataframe tbody tr th:only-of-type {\n",
       "        vertical-align: middle;\n",
       "    }\n",
       "\n",
       "    .dataframe tbody tr th {\n",
       "        vertical-align: top;\n",
       "    }\n",
       "\n",
       "    .dataframe thead th {\n",
       "        text-align: right;\n",
       "    }\n",
       "</style>\n",
       "<table border=\"1\" class=\"dataframe\">\n",
       "  <thead>\n",
       "    <tr style=\"text-align: right;\">\n",
       "      <th></th>\n",
       "      <th>Id</th>\n",
       "      <th>MSSubClass</th>\n",
       "      <th>MSZoning</th>\n",
       "      <th>LotFrontage</th>\n",
       "      <th>LotArea</th>\n",
       "      <th>Street</th>\n",
       "      <th>Alley</th>\n",
       "      <th>LotShape</th>\n",
       "      <th>LandContour</th>\n",
       "      <th>Utilities</th>\n",
       "      <th>LotConfig</th>\n",
       "      <th>LandSlope</th>\n",
       "      <th>Neighborhood</th>\n",
       "      <th>Condition1</th>\n",
       "      <th>Condition2</th>\n",
       "      <th>BldgType</th>\n",
       "      <th>HouseStyle</th>\n",
       "      <th>OverallQual</th>\n",
       "      <th>OverallCond</th>\n",
       "      <th>YearBuilt</th>\n",
       "      <th>YearRemodAdd</th>\n",
       "      <th>RoofStyle</th>\n",
       "      <th>RoofMatl</th>\n",
       "      <th>Exterior1st</th>\n",
       "      <th>Exterior2nd</th>\n",
       "      <th>MasVnrType</th>\n",
       "      <th>MasVnrArea</th>\n",
       "      <th>ExterQual</th>\n",
       "      <th>ExterCond</th>\n",
       "      <th>Foundation</th>\n",
       "      <th>BsmtQual</th>\n",
       "      <th>BsmtCond</th>\n",
       "      <th>BsmtExposure</th>\n",
       "      <th>BsmtFinType1</th>\n",
       "      <th>BsmtFinSF1</th>\n",
       "      <th>BsmtFinType2</th>\n",
       "      <th>BsmtFinSF2</th>\n",
       "      <th>BsmtUnfSF</th>\n",
       "      <th>TotalBsmtSF</th>\n",
       "      <th>Heating</th>\n",
       "      <th>...</th>\n",
       "      <th>CentralAir</th>\n",
       "      <th>Electrical</th>\n",
       "      <th>1stFlrSF</th>\n",
       "      <th>2ndFlrSF</th>\n",
       "      <th>LowQualFinSF</th>\n",
       "      <th>GrLivArea</th>\n",
       "      <th>BsmtFullBath</th>\n",
       "      <th>BsmtHalfBath</th>\n",
       "      <th>FullBath</th>\n",
       "      <th>HalfBath</th>\n",
       "      <th>BedroomAbvGr</th>\n",
       "      <th>KitchenAbvGr</th>\n",
       "      <th>KitchenQual</th>\n",
       "      <th>TotRmsAbvGrd</th>\n",
       "      <th>Functional</th>\n",
       "      <th>Fireplaces</th>\n",
       "      <th>FireplaceQu</th>\n",
       "      <th>GarageType</th>\n",
       "      <th>GarageYrBlt</th>\n",
       "      <th>GarageFinish</th>\n",
       "      <th>GarageCars</th>\n",
       "      <th>GarageArea</th>\n",
       "      <th>GarageQual</th>\n",
       "      <th>GarageCond</th>\n",
       "      <th>PavedDrive</th>\n",
       "      <th>WoodDeckSF</th>\n",
       "      <th>OpenPorchSF</th>\n",
       "      <th>EnclosedPorch</th>\n",
       "      <th>3SsnPorch</th>\n",
       "      <th>ScreenPorch</th>\n",
       "      <th>PoolArea</th>\n",
       "      <th>PoolQC</th>\n",
       "      <th>Fence</th>\n",
       "      <th>MiscFeature</th>\n",
       "      <th>MiscVal</th>\n",
       "      <th>MoSold</th>\n",
       "      <th>YrSold</th>\n",
       "      <th>SaleType</th>\n",
       "      <th>SaleCondition</th>\n",
       "      <th>SalePrice</th>\n",
       "    </tr>\n",
       "  </thead>\n",
       "  <tbody>\n",
       "    <tr>\n",
       "      <th>0</th>\n",
       "      <td>1</td>\n",
       "      <td>60</td>\n",
       "      <td>RL</td>\n",
       "      <td>65.0</td>\n",
       "      <td>8450</td>\n",
       "      <td>Pave</td>\n",
       "      <td>NaN</td>\n",
       "      <td>Reg</td>\n",
       "      <td>Lvl</td>\n",
       "      <td>AllPub</td>\n",
       "      <td>Inside</td>\n",
       "      <td>Gtl</td>\n",
       "      <td>CollgCr</td>\n",
       "      <td>Norm</td>\n",
       "      <td>Norm</td>\n",
       "      <td>1Fam</td>\n",
       "      <td>2Story</td>\n",
       "      <td>7</td>\n",
       "      <td>5</td>\n",
       "      <td>2003</td>\n",
       "      <td>2003</td>\n",
       "      <td>Gable</td>\n",
       "      <td>CompShg</td>\n",
       "      <td>VinylSd</td>\n",
       "      <td>VinylSd</td>\n",
       "      <td>BrkFace</td>\n",
       "      <td>196.0</td>\n",
       "      <td>Gd</td>\n",
       "      <td>TA</td>\n",
       "      <td>PConc</td>\n",
       "      <td>Gd</td>\n",
       "      <td>TA</td>\n",
       "      <td>No</td>\n",
       "      <td>GLQ</td>\n",
       "      <td>706</td>\n",
       "      <td>Unf</td>\n",
       "      <td>0</td>\n",
       "      <td>150</td>\n",
       "      <td>856</td>\n",
       "      <td>GasA</td>\n",
       "      <td>...</td>\n",
       "      <td>Y</td>\n",
       "      <td>SBrkr</td>\n",
       "      <td>856</td>\n",
       "      <td>854</td>\n",
       "      <td>0</td>\n",
       "      <td>1710</td>\n",
       "      <td>1</td>\n",
       "      <td>0</td>\n",
       "      <td>2</td>\n",
       "      <td>1</td>\n",
       "      <td>3</td>\n",
       "      <td>1</td>\n",
       "      <td>Gd</td>\n",
       "      <td>8</td>\n",
       "      <td>Typ</td>\n",
       "      <td>0</td>\n",
       "      <td>NaN</td>\n",
       "      <td>Attchd</td>\n",
       "      <td>2003.0</td>\n",
       "      <td>RFn</td>\n",
       "      <td>2</td>\n",
       "      <td>548</td>\n",
       "      <td>TA</td>\n",
       "      <td>TA</td>\n",
       "      <td>Y</td>\n",
       "      <td>0</td>\n",
       "      <td>61</td>\n",
       "      <td>0</td>\n",
       "      <td>0</td>\n",
       "      <td>0</td>\n",
       "      <td>0</td>\n",
       "      <td>NaN</td>\n",
       "      <td>NaN</td>\n",
       "      <td>NaN</td>\n",
       "      <td>0</td>\n",
       "      <td>2</td>\n",
       "      <td>2008</td>\n",
       "      <td>WD</td>\n",
       "      <td>Normal</td>\n",
       "      <td>208500</td>\n",
       "    </tr>\n",
       "    <tr>\n",
       "      <th>1</th>\n",
       "      <td>2</td>\n",
       "      <td>20</td>\n",
       "      <td>RL</td>\n",
       "      <td>80.0</td>\n",
       "      <td>9600</td>\n",
       "      <td>Pave</td>\n",
       "      <td>NaN</td>\n",
       "      <td>Reg</td>\n",
       "      <td>Lvl</td>\n",
       "      <td>AllPub</td>\n",
       "      <td>FR2</td>\n",
       "      <td>Gtl</td>\n",
       "      <td>Veenker</td>\n",
       "      <td>Feedr</td>\n",
       "      <td>Norm</td>\n",
       "      <td>1Fam</td>\n",
       "      <td>1Story</td>\n",
       "      <td>6</td>\n",
       "      <td>8</td>\n",
       "      <td>1976</td>\n",
       "      <td>1976</td>\n",
       "      <td>Gable</td>\n",
       "      <td>CompShg</td>\n",
       "      <td>MetalSd</td>\n",
       "      <td>MetalSd</td>\n",
       "      <td>None</td>\n",
       "      <td>0.0</td>\n",
       "      <td>TA</td>\n",
       "      <td>TA</td>\n",
       "      <td>CBlock</td>\n",
       "      <td>Gd</td>\n",
       "      <td>TA</td>\n",
       "      <td>Gd</td>\n",
       "      <td>ALQ</td>\n",
       "      <td>978</td>\n",
       "      <td>Unf</td>\n",
       "      <td>0</td>\n",
       "      <td>284</td>\n",
       "      <td>1262</td>\n",
       "      <td>GasA</td>\n",
       "      <td>...</td>\n",
       "      <td>Y</td>\n",
       "      <td>SBrkr</td>\n",
       "      <td>1262</td>\n",
       "      <td>0</td>\n",
       "      <td>0</td>\n",
       "      <td>1262</td>\n",
       "      <td>0</td>\n",
       "      <td>1</td>\n",
       "      <td>2</td>\n",
       "      <td>0</td>\n",
       "      <td>3</td>\n",
       "      <td>1</td>\n",
       "      <td>TA</td>\n",
       "      <td>6</td>\n",
       "      <td>Typ</td>\n",
       "      <td>1</td>\n",
       "      <td>TA</td>\n",
       "      <td>Attchd</td>\n",
       "      <td>1976.0</td>\n",
       "      <td>RFn</td>\n",
       "      <td>2</td>\n",
       "      <td>460</td>\n",
       "      <td>TA</td>\n",
       "      <td>TA</td>\n",
       "      <td>Y</td>\n",
       "      <td>298</td>\n",
       "      <td>0</td>\n",
       "      <td>0</td>\n",
       "      <td>0</td>\n",
       "      <td>0</td>\n",
       "      <td>0</td>\n",
       "      <td>NaN</td>\n",
       "      <td>NaN</td>\n",
       "      <td>NaN</td>\n",
       "      <td>0</td>\n",
       "      <td>5</td>\n",
       "      <td>2007</td>\n",
       "      <td>WD</td>\n",
       "      <td>Normal</td>\n",
       "      <td>181500</td>\n",
       "    </tr>\n",
       "    <tr>\n",
       "      <th>2</th>\n",
       "      <td>3</td>\n",
       "      <td>60</td>\n",
       "      <td>RL</td>\n",
       "      <td>68.0</td>\n",
       "      <td>11250</td>\n",
       "      <td>Pave</td>\n",
       "      <td>NaN</td>\n",
       "      <td>IR1</td>\n",
       "      <td>Lvl</td>\n",
       "      <td>AllPub</td>\n",
       "      <td>Inside</td>\n",
       "      <td>Gtl</td>\n",
       "      <td>CollgCr</td>\n",
       "      <td>Norm</td>\n",
       "      <td>Norm</td>\n",
       "      <td>1Fam</td>\n",
       "      <td>2Story</td>\n",
       "      <td>7</td>\n",
       "      <td>5</td>\n",
       "      <td>2001</td>\n",
       "      <td>2002</td>\n",
       "      <td>Gable</td>\n",
       "      <td>CompShg</td>\n",
       "      <td>VinylSd</td>\n",
       "      <td>VinylSd</td>\n",
       "      <td>BrkFace</td>\n",
       "      <td>162.0</td>\n",
       "      <td>Gd</td>\n",
       "      <td>TA</td>\n",
       "      <td>PConc</td>\n",
       "      <td>Gd</td>\n",
       "      <td>TA</td>\n",
       "      <td>Mn</td>\n",
       "      <td>GLQ</td>\n",
       "      <td>486</td>\n",
       "      <td>Unf</td>\n",
       "      <td>0</td>\n",
       "      <td>434</td>\n",
       "      <td>920</td>\n",
       "      <td>GasA</td>\n",
       "      <td>...</td>\n",
       "      <td>Y</td>\n",
       "      <td>SBrkr</td>\n",
       "      <td>920</td>\n",
       "      <td>866</td>\n",
       "      <td>0</td>\n",
       "      <td>1786</td>\n",
       "      <td>1</td>\n",
       "      <td>0</td>\n",
       "      <td>2</td>\n",
       "      <td>1</td>\n",
       "      <td>3</td>\n",
       "      <td>1</td>\n",
       "      <td>Gd</td>\n",
       "      <td>6</td>\n",
       "      <td>Typ</td>\n",
       "      <td>1</td>\n",
       "      <td>TA</td>\n",
       "      <td>Attchd</td>\n",
       "      <td>2001.0</td>\n",
       "      <td>RFn</td>\n",
       "      <td>2</td>\n",
       "      <td>608</td>\n",
       "      <td>TA</td>\n",
       "      <td>TA</td>\n",
       "      <td>Y</td>\n",
       "      <td>0</td>\n",
       "      <td>42</td>\n",
       "      <td>0</td>\n",
       "      <td>0</td>\n",
       "      <td>0</td>\n",
       "      <td>0</td>\n",
       "      <td>NaN</td>\n",
       "      <td>NaN</td>\n",
       "      <td>NaN</td>\n",
       "      <td>0</td>\n",
       "      <td>9</td>\n",
       "      <td>2008</td>\n",
       "      <td>WD</td>\n",
       "      <td>Normal</td>\n",
       "      <td>223500</td>\n",
       "    </tr>\n",
       "    <tr>\n",
       "      <th>3</th>\n",
       "      <td>4</td>\n",
       "      <td>70</td>\n",
       "      <td>RL</td>\n",
       "      <td>60.0</td>\n",
       "      <td>9550</td>\n",
       "      <td>Pave</td>\n",
       "      <td>NaN</td>\n",
       "      <td>IR1</td>\n",
       "      <td>Lvl</td>\n",
       "      <td>AllPub</td>\n",
       "      <td>Corner</td>\n",
       "      <td>Gtl</td>\n",
       "      <td>Crawfor</td>\n",
       "      <td>Norm</td>\n",
       "      <td>Norm</td>\n",
       "      <td>1Fam</td>\n",
       "      <td>2Story</td>\n",
       "      <td>7</td>\n",
       "      <td>5</td>\n",
       "      <td>1915</td>\n",
       "      <td>1970</td>\n",
       "      <td>Gable</td>\n",
       "      <td>CompShg</td>\n",
       "      <td>Wd Sdng</td>\n",
       "      <td>Wd Shng</td>\n",
       "      <td>None</td>\n",
       "      <td>0.0</td>\n",
       "      <td>TA</td>\n",
       "      <td>TA</td>\n",
       "      <td>BrkTil</td>\n",
       "      <td>TA</td>\n",
       "      <td>Gd</td>\n",
       "      <td>No</td>\n",
       "      <td>ALQ</td>\n",
       "      <td>216</td>\n",
       "      <td>Unf</td>\n",
       "      <td>0</td>\n",
       "      <td>540</td>\n",
       "      <td>756</td>\n",
       "      <td>GasA</td>\n",
       "      <td>...</td>\n",
       "      <td>Y</td>\n",
       "      <td>SBrkr</td>\n",
       "      <td>961</td>\n",
       "      <td>756</td>\n",
       "      <td>0</td>\n",
       "      <td>1717</td>\n",
       "      <td>1</td>\n",
       "      <td>0</td>\n",
       "      <td>1</td>\n",
       "      <td>0</td>\n",
       "      <td>3</td>\n",
       "      <td>1</td>\n",
       "      <td>Gd</td>\n",
       "      <td>7</td>\n",
       "      <td>Typ</td>\n",
       "      <td>1</td>\n",
       "      <td>Gd</td>\n",
       "      <td>Detchd</td>\n",
       "      <td>1998.0</td>\n",
       "      <td>Unf</td>\n",
       "      <td>3</td>\n",
       "      <td>642</td>\n",
       "      <td>TA</td>\n",
       "      <td>TA</td>\n",
       "      <td>Y</td>\n",
       "      <td>0</td>\n",
       "      <td>35</td>\n",
       "      <td>272</td>\n",
       "      <td>0</td>\n",
       "      <td>0</td>\n",
       "      <td>0</td>\n",
       "      <td>NaN</td>\n",
       "      <td>NaN</td>\n",
       "      <td>NaN</td>\n",
       "      <td>0</td>\n",
       "      <td>2</td>\n",
       "      <td>2006</td>\n",
       "      <td>WD</td>\n",
       "      <td>Abnorml</td>\n",
       "      <td>140000</td>\n",
       "    </tr>\n",
       "    <tr>\n",
       "      <th>4</th>\n",
       "      <td>5</td>\n",
       "      <td>60</td>\n",
       "      <td>RL</td>\n",
       "      <td>84.0</td>\n",
       "      <td>14260</td>\n",
       "      <td>Pave</td>\n",
       "      <td>NaN</td>\n",
       "      <td>IR1</td>\n",
       "      <td>Lvl</td>\n",
       "      <td>AllPub</td>\n",
       "      <td>FR2</td>\n",
       "      <td>Gtl</td>\n",
       "      <td>NoRidge</td>\n",
       "      <td>Norm</td>\n",
       "      <td>Norm</td>\n",
       "      <td>1Fam</td>\n",
       "      <td>2Story</td>\n",
       "      <td>8</td>\n",
       "      <td>5</td>\n",
       "      <td>2000</td>\n",
       "      <td>2000</td>\n",
       "      <td>Gable</td>\n",
       "      <td>CompShg</td>\n",
       "      <td>VinylSd</td>\n",
       "      <td>VinylSd</td>\n",
       "      <td>BrkFace</td>\n",
       "      <td>350.0</td>\n",
       "      <td>Gd</td>\n",
       "      <td>TA</td>\n",
       "      <td>PConc</td>\n",
       "      <td>Gd</td>\n",
       "      <td>TA</td>\n",
       "      <td>Av</td>\n",
       "      <td>GLQ</td>\n",
       "      <td>655</td>\n",
       "      <td>Unf</td>\n",
       "      <td>0</td>\n",
       "      <td>490</td>\n",
       "      <td>1145</td>\n",
       "      <td>GasA</td>\n",
       "      <td>...</td>\n",
       "      <td>Y</td>\n",
       "      <td>SBrkr</td>\n",
       "      <td>1145</td>\n",
       "      <td>1053</td>\n",
       "      <td>0</td>\n",
       "      <td>2198</td>\n",
       "      <td>1</td>\n",
       "      <td>0</td>\n",
       "      <td>2</td>\n",
       "      <td>1</td>\n",
       "      <td>4</td>\n",
       "      <td>1</td>\n",
       "      <td>Gd</td>\n",
       "      <td>9</td>\n",
       "      <td>Typ</td>\n",
       "      <td>1</td>\n",
       "      <td>TA</td>\n",
       "      <td>Attchd</td>\n",
       "      <td>2000.0</td>\n",
       "      <td>RFn</td>\n",
       "      <td>3</td>\n",
       "      <td>836</td>\n",
       "      <td>TA</td>\n",
       "      <td>TA</td>\n",
       "      <td>Y</td>\n",
       "      <td>192</td>\n",
       "      <td>84</td>\n",
       "      <td>0</td>\n",
       "      <td>0</td>\n",
       "      <td>0</td>\n",
       "      <td>0</td>\n",
       "      <td>NaN</td>\n",
       "      <td>NaN</td>\n",
       "      <td>NaN</td>\n",
       "      <td>0</td>\n",
       "      <td>12</td>\n",
       "      <td>2008</td>\n",
       "      <td>WD</td>\n",
       "      <td>Normal</td>\n",
       "      <td>250000</td>\n",
       "    </tr>\n",
       "  </tbody>\n",
       "</table>\n",
       "<p>5 rows × 81 columns</p>\n",
       "</div>"
      ],
      "text/plain": [
       "   Id  MSSubClass MSZoning  ...  SaleType  SaleCondition SalePrice\n",
       "0   1          60       RL  ...        WD         Normal    208500\n",
       "1   2          20       RL  ...        WD         Normal    181500\n",
       "2   3          60       RL  ...        WD         Normal    223500\n",
       "3   4          70       RL  ...        WD        Abnorml    140000\n",
       "4   5          60       RL  ...        WD         Normal    250000\n",
       "\n",
       "[5 rows x 81 columns]"
      ]
     },
     "execution_count": 8,
     "metadata": {
      "tags": []
     },
     "output_type": "execute_result"
    }
   ],
   "source": [
    "housing.head() #previewing data"
   ]
  },
  {
   "cell_type": "code",
   "execution_count": 9,
   "metadata": {
    "colab": {
     "base_uri": "https://localhost:8080/"
    },
    "id": "dbDJwHsacL-X",
    "outputId": "353c2402-033b-474f-ce51-013bfa91f3b3"
   },
   "outputs": [
    {
     "name": "stdout",
     "output_type": "stream",
     "text": [
      "<class 'pandas.core.frame.DataFrame'>\n",
      "RangeIndex: 1460 entries, 0 to 1459\n",
      "Data columns (total 81 columns):\n",
      " #   Column         Non-Null Count  Dtype  \n",
      "---  ------         --------------  -----  \n",
      " 0   Id             1460 non-null   int64  \n",
      " 1   MSSubClass     1460 non-null   int64  \n",
      " 2   MSZoning       1460 non-null   object \n",
      " 3   LotFrontage    1201 non-null   float64\n",
      " 4   LotArea        1460 non-null   int64  \n",
      " 5   Street         1460 non-null   object \n",
      " 6   Alley          91 non-null     object \n",
      " 7   LotShape       1460 non-null   object \n",
      " 8   LandContour    1460 non-null   object \n",
      " 9   Utilities      1460 non-null   object \n",
      " 10  LotConfig      1460 non-null   object \n",
      " 11  LandSlope      1460 non-null   object \n",
      " 12  Neighborhood   1460 non-null   object \n",
      " 13  Condition1     1460 non-null   object \n",
      " 14  Condition2     1460 non-null   object \n",
      " 15  BldgType       1460 non-null   object \n",
      " 16  HouseStyle     1460 non-null   object \n",
      " 17  OverallQual    1460 non-null   int64  \n",
      " 18  OverallCond    1460 non-null   int64  \n",
      " 19  YearBuilt      1460 non-null   int64  \n",
      " 20  YearRemodAdd   1460 non-null   int64  \n",
      " 21  RoofStyle      1460 non-null   object \n",
      " 22  RoofMatl       1460 non-null   object \n",
      " 23  Exterior1st    1460 non-null   object \n",
      " 24  Exterior2nd    1460 non-null   object \n",
      " 25  MasVnrType     1452 non-null   object \n",
      " 26  MasVnrArea     1452 non-null   float64\n",
      " 27  ExterQual      1460 non-null   object \n",
      " 28  ExterCond      1460 non-null   object \n",
      " 29  Foundation     1460 non-null   object \n",
      " 30  BsmtQual       1423 non-null   object \n",
      " 31  BsmtCond       1423 non-null   object \n",
      " 32  BsmtExposure   1422 non-null   object \n",
      " 33  BsmtFinType1   1423 non-null   object \n",
      " 34  BsmtFinSF1     1460 non-null   int64  \n",
      " 35  BsmtFinType2   1422 non-null   object \n",
      " 36  BsmtFinSF2     1460 non-null   int64  \n",
      " 37  BsmtUnfSF      1460 non-null   int64  \n",
      " 38  TotalBsmtSF    1460 non-null   int64  \n",
      " 39  Heating        1460 non-null   object \n",
      " 40  HeatingQC      1460 non-null   object \n",
      " 41  CentralAir     1460 non-null   object \n",
      " 42  Electrical     1459 non-null   object \n",
      " 43  1stFlrSF       1460 non-null   int64  \n",
      " 44  2ndFlrSF       1460 non-null   int64  \n",
      " 45  LowQualFinSF   1460 non-null   int64  \n",
      " 46  GrLivArea      1460 non-null   int64  \n",
      " 47  BsmtFullBath   1460 non-null   int64  \n",
      " 48  BsmtHalfBath   1460 non-null   int64  \n",
      " 49  FullBath       1460 non-null   int64  \n",
      " 50  HalfBath       1460 non-null   int64  \n",
      " 51  BedroomAbvGr   1460 non-null   int64  \n",
      " 52  KitchenAbvGr   1460 non-null   int64  \n",
      " 53  KitchenQual    1460 non-null   object \n",
      " 54  TotRmsAbvGrd   1460 non-null   int64  \n",
      " 55  Functional     1460 non-null   object \n",
      " 56  Fireplaces     1460 non-null   int64  \n",
      " 57  FireplaceQu    770 non-null    object \n",
      " 58  GarageType     1379 non-null   object \n",
      " 59  GarageYrBlt    1379 non-null   float64\n",
      " 60  GarageFinish   1379 non-null   object \n",
      " 61  GarageCars     1460 non-null   int64  \n",
      " 62  GarageArea     1460 non-null   int64  \n",
      " 63  GarageQual     1379 non-null   object \n",
      " 64  GarageCond     1379 non-null   object \n",
      " 65  PavedDrive     1460 non-null   object \n",
      " 66  WoodDeckSF     1460 non-null   int64  \n",
      " 67  OpenPorchSF    1460 non-null   int64  \n",
      " 68  EnclosedPorch  1460 non-null   int64  \n",
      " 69  3SsnPorch      1460 non-null   int64  \n",
      " 70  ScreenPorch    1460 non-null   int64  \n",
      " 71  PoolArea       1460 non-null   int64  \n",
      " 72  PoolQC         7 non-null      object \n",
      " 73  Fence          281 non-null    object \n",
      " 74  MiscFeature    54 non-null     object \n",
      " 75  MiscVal        1460 non-null   int64  \n",
      " 76  MoSold         1460 non-null   int64  \n",
      " 77  YrSold         1460 non-null   int64  \n",
      " 78  SaleType       1460 non-null   object \n",
      " 79  SaleCondition  1460 non-null   object \n",
      " 80  SalePrice      1460 non-null   int64  \n",
      "dtypes: float64(3), int64(35), object(43)\n",
      "memory usage: 924.0+ KB\n"
     ]
    }
   ],
   "source": [
    "#previewing data to see columns (called features), number of missing values for each column, and each columns data type\n",
    "\n",
    "housing.info()"
   ]
  },
  {
   "cell_type": "code",
   "execution_count": null,
   "metadata": {
    "colab": {
     "base_uri": "https://localhost:8080/",
     "height": 959
    },
    "id": "r9_1A6xE5OTc",
    "outputId": "6494553e-8350-4320-8d9f-92324e9f982d"
   },
   "outputs": [
    {
     "data": {
      "text/plain": [
       "[]"
      ]
     },
     "execution_count": 46,
     "metadata": {
      "tags": []
     },
     "output_type": "execute_result"
    },
    {
     "data": {
      "image/png": "[encoded data removed]",
      "text/plain": [
       "<Figure size 1440x1440 with 42 Axes>"
      ]
     },
     "metadata": {
      "needs_background": "light",
      "tags": []
     },
     "output_type": "display_data"
    }
   ],
   "source": [
    "import matplotlib.pyplot as plt #imports library for visualizing data\n",
    "\n",
    "housing.hist(bins=50, figsize=(20,20)) #plots histograms for numerical features (columns in dataset)\n",
    "plt.plot()"
   ]
  },
  {
   "cell_type": "code",
   "execution_count": null,
   "metadata": {
    "colab": {
     "base_uri": "https://localhost:8080/"
    },
    "id": "Lqk7NYOd_NON",
    "outputId": "7b505c75-1948-41bb-8b67-cae63f1a3db0"
   },
   "outputs": [
    {
     "name": "stdout",
     "output_type": "stream",
     "text": [
      "Id                  0\n",
      "MSSubClass          0\n",
      "MSZoning            0\n",
      "LotFrontage       259\n",
      "LotArea             0\n",
      "Street              0\n",
      "Alley            1369\n",
      "LotShape            0\n",
      "LandContour         0\n",
      "Utilities           0\n",
      "LotConfig           0\n",
      "LandSlope           0\n",
      "Neighborhood        0\n",
      "Condition1          0\n",
      "Condition2          0\n",
      "BldgType            0\n",
      "HouseStyle          0\n",
      "OverallQual         0\n",
      "OverallCond         0\n",
      "YearBuilt           0\n",
      "YearRemodAdd        0\n",
      "RoofStyle           0\n",
      "RoofMatl            0\n",
      "Exterior1st         0\n",
      "Exterior2nd         0\n",
      "MasVnrType          8\n",
      "MasVnrArea          8\n",
      "ExterQual           0\n",
      "ExterCond           0\n",
      "Foundation          0\n",
      "BsmtQual           37\n",
      "BsmtCond           37\n",
      "BsmtExposure       38\n",
      "BsmtFinType1       37\n",
      "BsmtFinSF1          0\n",
      "BsmtFinType2       38\n",
      "BsmtFinSF2          0\n",
      "BsmtUnfSF           0\n",
      "TotalBsmtSF         0\n",
      "Heating             0\n",
      "HeatingQC           0\n",
      "CentralAir          0\n",
      "Electrical          1\n",
      "1stFlrSF            0\n",
      "2ndFlrSF            0\n",
      "LowQualFinSF        0\n",
      "GrLivArea           0\n",
      "BsmtFullBath        0\n",
      "BsmtHalfBath        0\n",
      "FullBath            0\n",
      "HalfBath            0\n",
      "BedroomAbvGr        0\n",
      "KitchenAbvGr        0\n",
      "KitchenQual         0\n",
      "TotRmsAbvGrd        0\n",
      "Functional          0\n",
      "Fireplaces          0\n",
      "FireplaceQu       690\n",
      "GarageType         81\n",
      "GarageYrBlt        81\n",
      "GarageFinish       81\n",
      "GarageCars          0\n",
      "GarageArea          0\n",
      "GarageQual         81\n",
      "GarageCond         81\n",
      "PavedDrive          0\n",
      "WoodDeckSF          0\n",
      "OpenPorchSF         0\n",
      "EnclosedPorch       0\n",
      "3SsnPorch           0\n",
      "ScreenPorch         0\n",
      "PoolArea            0\n",
      "PoolQC           1453\n",
      "Fence            1179\n",
      "MiscFeature      1406\n",
      "MiscVal             0\n",
      "MoSold              0\n",
      "YrSold              0\n",
      "SaleType            0\n",
      "SaleCondition       0\n",
      "SalePrice           0\n"
     ]
    }
   ],
   "source": [
    "#similar to housing.info, this identifies how many values for each feature is missing\n",
    "#if a feature is missing too many values, it may need to be dropped.\n",
    "\n",
    "null_col = housing.isna().sum()\n",
    "print(null_col.to_string())"
   ]
  },
  {
   "cell_type": "code",
   "execution_count": null,
   "metadata": {
    "colab": {
     "base_uri": "https://localhost:8080/",
     "height": 1000
    },
    "id": "uR05H5w5CoNQ",
    "outputId": "72bfeb88-57dc-4139-e48a-8be245333bbe"
   },
   "outputs": [
    {
     "data": {
      "text/html": [
       "<div>\n",
       "<style scoped>\n",
       "    .dataframe tbody tr th:only-of-type {\n",
       "        vertical-align: middle;\n",
       "    }\n",
       "\n",
       "    .dataframe tbody tr th {\n",
       "        vertical-align: top;\n",
       "    }\n",
       "\n",
       "    .dataframe thead th {\n",
       "        text-align: right;\n",
       "    }\n",
       "</style>\n",
       "<table border=\"1\" class=\"dataframe\">\n",
       "  <thead>\n",
       "    <tr style=\"text-align: right;\">\n",
       "      <th></th>\n",
       "      <th>index</th>\n",
       "      <th>SalePrice</th>\n",
       "    </tr>\n",
       "  </thead>\n",
       "  <tbody>\n",
       "    <tr>\n",
       "      <th>0</th>\n",
       "      <td>SalePrice</td>\n",
       "      <td>1.000000</td>\n",
       "    </tr>\n",
       "    <tr>\n",
       "      <th>1</th>\n",
       "      <td>OverallQual</td>\n",
       "      <td>0.790982</td>\n",
       "    </tr>\n",
       "    <tr>\n",
       "      <th>2</th>\n",
       "      <td>GrLivArea</td>\n",
       "      <td>0.708624</td>\n",
       "    </tr>\n",
       "    <tr>\n",
       "      <th>3</th>\n",
       "      <td>GarageCars</td>\n",
       "      <td>0.640409</td>\n",
       "    </tr>\n",
       "    <tr>\n",
       "      <th>4</th>\n",
       "      <td>GarageArea</td>\n",
       "      <td>0.623431</td>\n",
       "    </tr>\n",
       "    <tr>\n",
       "      <th>5</th>\n",
       "      <td>TotalBsmtSF</td>\n",
       "      <td>0.613581</td>\n",
       "    </tr>\n",
       "    <tr>\n",
       "      <th>6</th>\n",
       "      <td>1stFlrSF</td>\n",
       "      <td>0.605852</td>\n",
       "    </tr>\n",
       "    <tr>\n",
       "      <th>7</th>\n",
       "      <td>FullBath</td>\n",
       "      <td>0.560664</td>\n",
       "    </tr>\n",
       "    <tr>\n",
       "      <th>8</th>\n",
       "      <td>TotRmsAbvGrd</td>\n",
       "      <td>0.533723</td>\n",
       "    </tr>\n",
       "    <tr>\n",
       "      <th>9</th>\n",
       "      <td>YearBuilt</td>\n",
       "      <td>0.522897</td>\n",
       "    </tr>\n",
       "    <tr>\n",
       "      <th>10</th>\n",
       "      <td>YearRemodAdd</td>\n",
       "      <td>0.507101</td>\n",
       "    </tr>\n",
       "    <tr>\n",
       "      <th>11</th>\n",
       "      <td>GarageYrBlt</td>\n",
       "      <td>0.486362</td>\n",
       "    </tr>\n",
       "    <tr>\n",
       "      <th>12</th>\n",
       "      <td>MasVnrArea</td>\n",
       "      <td>0.477493</td>\n",
       "    </tr>\n",
       "    <tr>\n",
       "      <th>13</th>\n",
       "      <td>Fireplaces</td>\n",
       "      <td>0.466929</td>\n",
       "    </tr>\n",
       "    <tr>\n",
       "      <th>14</th>\n",
       "      <td>BsmtFinSF1</td>\n",
       "      <td>0.386420</td>\n",
       "    </tr>\n",
       "    <tr>\n",
       "      <th>15</th>\n",
       "      <td>LotFrontage</td>\n",
       "      <td>0.351799</td>\n",
       "    </tr>\n",
       "    <tr>\n",
       "      <th>16</th>\n",
       "      <td>WoodDeckSF</td>\n",
       "      <td>0.324413</td>\n",
       "    </tr>\n",
       "    <tr>\n",
       "      <th>17</th>\n",
       "      <td>2ndFlrSF</td>\n",
       "      <td>0.319334</td>\n",
       "    </tr>\n",
       "    <tr>\n",
       "      <th>18</th>\n",
       "      <td>OpenPorchSF</td>\n",
       "      <td>0.315856</td>\n",
       "    </tr>\n",
       "    <tr>\n",
       "      <th>19</th>\n",
       "      <td>HalfBath</td>\n",
       "      <td>0.284108</td>\n",
       "    </tr>\n",
       "    <tr>\n",
       "      <th>20</th>\n",
       "      <td>LotArea</td>\n",
       "      <td>0.263843</td>\n",
       "    </tr>\n",
       "    <tr>\n",
       "      <th>21</th>\n",
       "      <td>BsmtFullBath</td>\n",
       "      <td>0.227122</td>\n",
       "    </tr>\n",
       "    <tr>\n",
       "      <th>22</th>\n",
       "      <td>BsmtUnfSF</td>\n",
       "      <td>0.214479</td>\n",
       "    </tr>\n",
       "    <tr>\n",
       "      <th>23</th>\n",
       "      <td>BedroomAbvGr</td>\n",
       "      <td>0.168213</td>\n",
       "    </tr>\n",
       "    <tr>\n",
       "      <th>24</th>\n",
       "      <td>ScreenPorch</td>\n",
       "      <td>0.111447</td>\n",
       "    </tr>\n",
       "    <tr>\n",
       "      <th>25</th>\n",
       "      <td>PoolArea</td>\n",
       "      <td>0.092404</td>\n",
       "    </tr>\n",
       "    <tr>\n",
       "      <th>26</th>\n",
       "      <td>MoSold</td>\n",
       "      <td>0.046432</td>\n",
       "    </tr>\n",
       "    <tr>\n",
       "      <th>27</th>\n",
       "      <td>3SsnPorch</td>\n",
       "      <td>0.044584</td>\n",
       "    </tr>\n",
       "    <tr>\n",
       "      <th>28</th>\n",
       "      <td>BsmtFinSF2</td>\n",
       "      <td>-0.011378</td>\n",
       "    </tr>\n",
       "    <tr>\n",
       "      <th>29</th>\n",
       "      <td>BsmtHalfBath</td>\n",
       "      <td>-0.016844</td>\n",
       "    </tr>\n",
       "    <tr>\n",
       "      <th>30</th>\n",
       "      <td>MiscVal</td>\n",
       "      <td>-0.021190</td>\n",
       "    </tr>\n",
       "    <tr>\n",
       "      <th>31</th>\n",
       "      <td>Id</td>\n",
       "      <td>-0.021917</td>\n",
       "    </tr>\n",
       "    <tr>\n",
       "      <th>32</th>\n",
       "      <td>LowQualFinSF</td>\n",
       "      <td>-0.025606</td>\n",
       "    </tr>\n",
       "    <tr>\n",
       "      <th>33</th>\n",
       "      <td>YrSold</td>\n",
       "      <td>-0.028923</td>\n",
       "    </tr>\n",
       "    <tr>\n",
       "      <th>34</th>\n",
       "      <td>OverallCond</td>\n",
       "      <td>-0.077856</td>\n",
       "    </tr>\n",
       "    <tr>\n",
       "      <th>35</th>\n",
       "      <td>MSSubClass</td>\n",
       "      <td>-0.084284</td>\n",
       "    </tr>\n",
       "    <tr>\n",
       "      <th>36</th>\n",
       "      <td>EnclosedPorch</td>\n",
       "      <td>-0.128578</td>\n",
       "    </tr>\n",
       "    <tr>\n",
       "      <th>37</th>\n",
       "      <td>KitchenAbvGr</td>\n",
       "      <td>-0.135907</td>\n",
       "    </tr>\n",
       "  </tbody>\n",
       "</table>\n",
       "</div>"
      ],
      "text/plain": [
       "            index  SalePrice\n",
       "0       SalePrice   1.000000\n",
       "1     OverallQual   0.790982\n",
       "2       GrLivArea   0.708624\n",
       "3      GarageCars   0.640409\n",
       "4      GarageArea   0.623431\n",
       "5     TotalBsmtSF   0.613581\n",
       "6        1stFlrSF   0.605852\n",
       "7        FullBath   0.560664\n",
       "8    TotRmsAbvGrd   0.533723\n",
       "9       YearBuilt   0.522897\n",
       "10   YearRemodAdd   0.507101\n",
       "11    GarageYrBlt   0.486362\n",
       "12     MasVnrArea   0.477493\n",
       "13     Fireplaces   0.466929\n",
       "14     BsmtFinSF1   0.386420\n",
       "15    LotFrontage   0.351799\n",
       "16     WoodDeckSF   0.324413\n",
       "17       2ndFlrSF   0.319334\n",
       "18    OpenPorchSF   0.315856\n",
       "19       HalfBath   0.284108\n",
       "20        LotArea   0.263843\n",
       "21   BsmtFullBath   0.227122\n",
       "22      BsmtUnfSF   0.214479\n",
       "23   BedroomAbvGr   0.168213\n",
       "24    ScreenPorch   0.111447\n",
       "25       PoolArea   0.092404\n",
       "26         MoSold   0.046432\n",
       "27      3SsnPorch   0.044584\n",
       "28     BsmtFinSF2  -0.011378\n",
       "29   BsmtHalfBath  -0.016844\n",
       "30        MiscVal  -0.021190\n",
       "31             Id  -0.021917\n",
       "32   LowQualFinSF  -0.025606\n",
       "33         YrSold  -0.028923\n",
       "34    OverallCond  -0.077856\n",
       "35     MSSubClass  -0.084284\n",
       "36  EnclosedPorch  -0.128578\n",
       "37   KitchenAbvGr  -0.135907"
      ]
     },
     "execution_count": 11,
     "metadata": {
      "tags": []
     },
     "output_type": "execute_result"
    }
   ],
   "source": [
    "#creates correlation matrix and shows SalePrice (target value) column to see how each feature is correlated to SalePrice \n",
    "\n",
    "housing.corr()['SalePrice'].sort_values(ascending=False).reset_index()"
   ]
  },
  {
   "cell_type": "code",
   "execution_count": null,
   "metadata": {
    "colab": {
     "base_uri": "https://localhost:8080/",
     "height": 419
    },
    "id": "IXuT1VhHLeIb",
    "outputId": "f206e477-b280-44e5-fd9c-377e135539e8"
   },
   "outputs": [
    {
     "data": {
      "text/html": [
       "<div>\n",
       "<style scoped>\n",
       "    .dataframe tbody tr th:only-of-type {\n",
       "        vertical-align: middle;\n",
       "    }\n",
       "\n",
       "    .dataframe tbody tr th {\n",
       "        vertical-align: top;\n",
       "    }\n",
       "\n",
       "    .dataframe thead th {\n",
       "        text-align: right;\n",
       "    }\n",
       "</style>\n",
       "<table border=\"1\" class=\"dataframe\">\n",
       "  <thead>\n",
       "    <tr style=\"text-align: right;\">\n",
       "      <th></th>\n",
       "      <th>index</th>\n",
       "      <th>SalePrice</th>\n",
       "      <th>YearBuilt</th>\n",
       "      <th>YearRemodAdd</th>\n",
       "    </tr>\n",
       "  </thead>\n",
       "  <tbody>\n",
       "    <tr>\n",
       "      <th>0</th>\n",
       "      <td>1349</td>\n",
       "      <td>122000</td>\n",
       "      <td>1872</td>\n",
       "      <td>1987</td>\n",
       "    </tr>\n",
       "    <tr>\n",
       "      <th>1</th>\n",
       "      <td>1137</td>\n",
       "      <td>94000</td>\n",
       "      <td>1875</td>\n",
       "      <td>1996</td>\n",
       "    </tr>\n",
       "    <tr>\n",
       "      <th>2</th>\n",
       "      <td>1132</td>\n",
       "      <td>117500</td>\n",
       "      <td>1880</td>\n",
       "      <td>1950</td>\n",
       "    </tr>\n",
       "    <tr>\n",
       "      <th>3</th>\n",
       "      <td>630</td>\n",
       "      <td>124000</td>\n",
       "      <td>1880</td>\n",
       "      <td>1991</td>\n",
       "    </tr>\n",
       "    <tr>\n",
       "      <th>4</th>\n",
       "      <td>304</td>\n",
       "      <td>295000</td>\n",
       "      <td>1880</td>\n",
       "      <td>2002</td>\n",
       "    </tr>\n",
       "    <tr>\n",
       "      <th>...</th>\n",
       "      <td>...</td>\n",
       "      <td>...</td>\n",
       "      <td>...</td>\n",
       "      <td>...</td>\n",
       "    </tr>\n",
       "    <tr>\n",
       "      <th>1455</th>\n",
       "      <td>157</td>\n",
       "      <td>269500</td>\n",
       "      <td>2009</td>\n",
       "      <td>2010</td>\n",
       "    </tr>\n",
       "    <tr>\n",
       "      <th>1456</th>\n",
       "      <td>819</td>\n",
       "      <td>224000</td>\n",
       "      <td>2009</td>\n",
       "      <td>2010</td>\n",
       "    </tr>\n",
       "    <tr>\n",
       "      <th>1457</th>\n",
       "      <td>898</td>\n",
       "      <td>611657</td>\n",
       "      <td>2009</td>\n",
       "      <td>2010</td>\n",
       "    </tr>\n",
       "    <tr>\n",
       "      <th>1458</th>\n",
       "      <td>987</td>\n",
       "      <td>395192</td>\n",
       "      <td>2009</td>\n",
       "      <td>2010</td>\n",
       "    </tr>\n",
       "    <tr>\n",
       "      <th>1459</th>\n",
       "      <td>378</td>\n",
       "      <td>394432</td>\n",
       "      <td>2010</td>\n",
       "      <td>2010</td>\n",
       "    </tr>\n",
       "  </tbody>\n",
       "</table>\n",
       "<p>1460 rows × 4 columns</p>\n",
       "</div>"
      ],
      "text/plain": [
       "      index  SalePrice  YearBuilt  YearRemodAdd\n",
       "0      1349     122000       1872          1987\n",
       "1      1137      94000       1875          1996\n",
       "2      1132     117500       1880          1950\n",
       "3       630     124000       1880          1991\n",
       "4       304     295000       1880          2002\n",
       "...     ...        ...        ...           ...\n",
       "1455    157     269500       2009          2010\n",
       "1456    819     224000       2009          2010\n",
       "1457    898     611657       2009          2010\n",
       "1458    987     395192       2009          2010\n",
       "1459    378     394432       2010          2010\n",
       "\n",
       "[1460 rows x 4 columns]"
      ]
     },
     "execution_count": 12,
     "metadata": {
      "tags": []
     },
     "output_type": "execute_result"
    }
   ],
   "source": [
    "housing[['SalePrice', 'YearBuilt', 'YearRemodAdd']].sort_values(['YearBuilt', 'YearRemodAdd']).reset_index()"
   ]
  },
  {
   "cell_type": "markdown",
   "metadata": {
    "id": "hITSnpP61Heb"
   },
   "source": [
    "`This code helps understand the distribution of features across feature values`\n",
    "\n",
    "\n",
    "\n"
   ]
  },
  {
   "cell_type": "code",
   "execution_count": null,
   "metadata": {
    "colab": {
     "base_uri": "https://localhost:8080/"
    },
    "id": "slS7NHtbHoV5",
    "outputId": "e76214bb-ea2b-4035-87f5-94e7ec19dc78"
   },
   "outputs": [
    {
     "data": {
      "text/plain": [
       "Utilities\n",
       "AllPub    1459\n",
       "NoSeWa       1\n",
       "Name: Utilities, dtype: int64"
      ]
     },
     "execution_count": 14,
     "metadata": {
      "tags": []
     },
     "output_type": "execute_result"
    }
   ],
   "source": [
    "#helps understand the distribution of features across feature values\n",
    "#in this scenario all instances have value 'AllPub' for the utiliites feature except 1 instance\n",
    "#constant data like this will not be helpful in differentiating/predicting target prices\n",
    "#utilities can be switched out to view other variablea\n",
    "\n",
    "housing.groupby('Utilities')['Utilities'].count() #drop this variable below"
   ]
  },
  {
   "cell_type": "code",
   "execution_count": null,
   "metadata": {
    "colab": {
     "base_uri": "https://localhost:8080/"
    },
    "id": "vntua5VBJL7j",
    "outputId": "179122e2-87cb-4be3-c1bb-692e1ea3799e"
   },
   "outputs": [
    {
     "data": {
      "text/plain": [
       "Gtl    1382\n",
       "Mod      65\n",
       "Sev      13\n",
       "Name: LandSlope, dtype: int64"
      ]
     },
     "execution_count": 34,
     "metadata": {
      "tags": []
     },
     "output_type": "execute_result"
    }
   ],
   "source": [
    "#does same thing as code above, to see distribution\n",
    "\n",
    "slope_counts = housing['LandSlope'].value_counts()\n",
    "slope_counts"
   ]
  },
  {
   "cell_type": "code",
   "execution_count": null,
   "metadata": {
    "colab": {
     "base_uri": "https://localhost:8080/"
    },
    "id": "_N8GZu_FKcIo",
    "outputId": "a1386d9c-fed4-464e-e28d-47a2149369ae"
   },
   "outputs": [
    {
     "data": {
      "text/plain": [
       "0      1453\n",
       "738       1\n",
       "648       1\n",
       "576       1\n",
       "555       1\n",
       "519       1\n",
       "512       1\n",
       "480       1\n",
       "Name: PoolArea, dtype: int64"
      ]
     },
     "execution_count": 15,
     "metadata": {
      "tags": []
     },
     "output_type": "execute_result"
    }
   ],
   "source": [
    "housing['PoolArea'].value_counts()"
   ]
  },
  {
   "cell_type": "markdown",
   "metadata": {
    "id": "0YZvyI_T3iys"
   },
   "source": [
    "`In the distribution of pool areas above, a large majority have pool area 0 (meaning they don’t have a pool). Sometimes it may be more effiecent to convert this variable to a binary feature, such as ‘has_pool’. If the pool area is greater than 0, set the value as 1 to indicate true, other set the value as 0 to indicate they do not have a pool. This modifying of features to help the model is called feature engineering `"
   ]
  },
  {
   "cell_type": "markdown",
   "metadata": {
    "id": "uyXRUfXOUT_9"
   },
   "source": [
    "### **Feature Engineering**"
   ]
  },
  {
   "cell_type": "code",
   "execution_count": 10,
   "metadata": {
    "id": "a5Qj-cPLgVgn"
   },
   "outputs": [],
   "source": [
    "#imports libraries that will help build custom transformers\n",
    "#these help automate the process of modifying data, with the goal of maximizing the efficiency of the model\n",
    "from sklearn.base import TransformerMixin, BaseEstimator"
   ]
  },
  {
   "cell_type": "markdown",
   "metadata": {
    "id": "UTA4yP7NXooz"
   },
   "source": [
    "##### Feature Transformer 1\n",
    "*not used in final model*"
   ]
  },
  {
   "cell_type": "code",
   "execution_count": null,
   "metadata": {
    "id": "959EOcNWhX4F"
   },
   "outputs": [],
   "source": [
    "class FeatureSelector(BaseEstimator, TransformerMixin):\n",
    "  def __init__(self, n_pos=3, n_neg=1):   #add a boolean parameter to include categorical attributes\n",
    "    self.n_pos = n_pos\n",
    "    self.n_neg = n_neg\n",
    "  \n",
    "  def create_corr(self, x, y):\n",
    "    data = x.copy()\n",
    "    data['target'] = y.copy()\n",
    "    corr_mat = data.corr()\n",
    "    return corr_mat['target'].sort_values(ascending=False).reset_index()\n",
    "  \n",
    "  def num_features(self, corr):\n",
    "    if(self.n_pos + self.n_neg + 2 >= len(corr)):\n",
    "      features = corr.iloc[1:len(corr)]['index'].tolist()\n",
    "    else:\n",
    "      pos_feat = corr.iloc[1:self.n_pos+1]['index'].tolist()\n",
    "      neg_feat = corr.iloc[-self.n_neg:]['index'].tolist()\n",
    "      features = pos_feat + neg_feat\n",
    "    return features\n",
    "\n",
    "  def fit(self, X, y):\n",
    "    corr_matrix = self.create_corr(X, y)\n",
    "    self.features = self.num_features(corr_matrix)\n",
    "    return self\n",
    "\n",
    "  def transform(self, X):\n",
    "    return X[self.features]"
   ]
  },
  {
   "cell_type": "markdown",
   "metadata": {
    "id": "pyTR5SedX2-i"
   },
   "source": [
    "##### Feature Transformer 2\n",
    "\n",
    "*not used in final model*\n"
   ]
  },
  {
   "cell_type": "code",
   "execution_count": null,
   "metadata": {
    "id": "x9ELf70nztgy"
   },
   "outputs": [],
   "source": [
    "class FeatureSelector2(BaseEstimator, TransformerMixin):\n",
    "  def __init__(self, n_pos=3, n_neg=1):   #add a boolean parameter to include categorical attributes\n",
    "    self.n_pos = n_pos\n",
    "    self.n_neg = n_neg\n",
    "    self.corr_matrix = []\n",
    "    self.features = []\n",
    "    self.y = []\n",
    "  def fit(self, X, y):\n",
    "    self.y = y.copy() \n",
    "    return self\n",
    "  def transform(self, X):\n",
    "    data = X.copy()\n",
    "    data['target'] = self.y\n",
    "    corr_mat = data.corr()\n",
    "    self.corr_matrix = corr_mat['target'].sort_values(ascending=False).reset_index()\n",
    "    if(self.n_pos + self.n_neg + 2 >= len(corr_mat)):\n",
    "      self.features = self.corr_matrix.iloc[1:len(self.corr_matrix)]['index'].tolist()\n",
    "    else:\n",
    "      #selects the most positively and negatively correlated features to run model\n",
    "      self.pos_feat = self.corr_matrix.iloc[1:self.n_pos+1]['index'].tolist()\n",
    "      self.neg_feat = self.corr_matrix.iloc[-self.n_neg:]['index'].tolist()\n",
    "      self.features = self.pos_feat + self.neg_feat\n",
    "    print(self.features)     #remove line\n",
    "    while True:\n",
    "      try:\n",
    "        self.features.remove('target')\n",
    "      except ValueError:\n",
    "        break\n",
    "    return X[self.features]"
   ]
  },
  {
   "cell_type": "markdown",
   "metadata": {
    "id": "z9CU48FoY28Y"
   },
   "source": [
    "##### Feature Grab:\n",
    "`This class takes an array of feature names to use in the model or an array of feature to drop from the model` "
   ]
  },
  {
   "cell_type": "code",
   "execution_count": 11,
   "metadata": {
    "id": "3LwZhR4sFsWw"
   },
   "outputs": [],
   "source": [
    "class feature_grab(BaseEstimator, TransformerMixin):\n",
    "  def __init__(self, feature_cols, drop=False):\n",
    "    self.feature_cols = feature_cols\n",
    "    self.drop = drop\n",
    "\n",
    "  def fit(self, x, y=None):\n",
    "    return self\n",
    "\n",
    "  #returns dataframe of selected columns or drop columns\n",
    "  def transform(self, x, y=None):\n",
    "    if not self.drop:\n",
    "      return x[self.feature_cols]\n",
    "    else:\n",
    "      return x.drop(self.feature_cols, axis=1, errors='ignore')"
   ]
  },
  {
   "cell_type": "markdown",
   "metadata": {
    "id": "gBzIeF9H2nkw"
   },
   "source": [
    "##### Numerical Transformer:\n",
    "`This class does the feature engineering for numerical features. It helps reduce the number of features to the features that are the most valuable for predicting housing prices. For example, instead of having two features, number of full baths and number of half baths, this class will combine those into one feature, number of baths. `"
   ]
  },
  {
   "cell_type": "code",
   "execution_count": 12,
   "metadata": {
    "id": "syurYCY92rxq"
   },
   "outputs": [],
   "source": [
    "class num_transformer(BaseEstimator, TransformerMixin): #calls two class bases to set up class\n",
    "  def __init__(self, feat_eng=True): #sets up the class constructor with one parameter \n",
    "    self.feat_eng = feat_eng\n",
    "  \n",
    "  def fit(self, x, y=None):\n",
    "    return self\n",
    "\n",
    "  def transform(self, x, y=None):\n",
    "    if self.feat_eng: \n",
    "      data = x.copy()\n",
    "      \n",
    "      #each line creates a new feature, and sets it equal to a calculation of two or more current features  \n",
    "        \n",
    "      data['YearBtwnRemod'] = data['YearRemodAdd'] - data['YearBuilt'] \n",
    "      data['PropertyAge'] = data['YrSold'] - data['YearBuilt']\n",
    "      data['RemodAge'] = data['YrSold'] - data['YearRemodAdd']\n",
    "      data['NewScore'] = data['YearBuilt'] + data['YearRemodAdd']\n",
    "\n",
    "      data['BusyMonth'] = data['MoSold'].apply(lambda x: 1 if x in [3,4,5,6,7,8] else 0)\n",
    "\n",
    "      data['TotalSF'] = data['BsmtFinSF1'] + data['BsmtFinSF2'] + data['1stFlrSF'] + data['2ndFlrSF']\n",
    "\n",
    "      data['TotalBath'] = data['FullBath'] + (.5 * data['HalfBath']) + data['BsmtFullBath'] + (.5 * data['BsmtHalfBath'])   \n",
    "\n",
    "      data['TotalPorchSF'] = data['OpenPorchSF'] + data['3SsnPorch'] + data['EnclosedPorch'] + data['ScreenPorch'] + data['WoodDeckSF']\n",
    "\n",
    "      data['TotalQual'] = data['OverallQual'] + data['OverallCond']\n",
    "      data['TotalQualAvg'] = (data['OverallQual'] + data['OverallCond']) / 2\n",
    "\n",
    "      data['SFPerRoom'] = data['GrLivArea'] / (data['TotRmsAbvGrd'] + data['FullBath'] + data['HalfBath'] + data['KitchenAbvGr'])               \n",
    "      return data #returns new data to model\n",
    "    else:\n",
    "      return x  #retunrs original data if parameter speciifes to not use feature engineering\n",
    "\n"
   ]
  },
  {
   "cell_type": "markdown",
   "metadata": {
    "id": "wZbLve9pZQ7-"
   },
   "source": [
    "##### Categorical Transformer"
   ]
  },
  {
   "cell_type": "code",
   "execution_count": 13,
   "metadata": {
    "id": "HpVCBkjfZwdd"
   },
   "outputs": [],
   "source": [
    "class cat_transformer(BaseEstimator, TransformerMixin):\n",
    "  def __init__(self, feature_eng=True):\n",
    "    self.feature_eng = feature_eng\n",
    "\n",
    "  def fit(self, x, y=None):\n",
    "    return self\n",
    "  \n",
    "  def transform(self, x, y=None):\n",
    "    #adds a feature of the time between built and remodel, drops remodel year col\n",
    "    if self.feature_eng:\n",
    "      #x.loc[:,'YearBtwnRemod'] = x['YearRemodAdd'] -x['YearBuilt']\n",
    "      #return x.drop(['YearRemodAdd'], axis=1)\n",
    "      data = x.copy()\n",
    "\n",
    "      data['Fence'].fillna('NA')\n",
    "\n",
    "      return data\n",
    "    else:\n",
    "      return x\n",
    "\n",
    "    "
   ]
  },
  {
   "cell_type": "markdown",
   "metadata": {
    "id": "0Mhkhvq_X-eY"
   },
   "source": [
    "### **Creating Pipelines:**\n",
    ">To train a machine learning model you have to send data through the algorithm. However, multiple steps occur before this, and more often are the more time consuming stpes. For example, data may go through a standardizer to help scale the data, or go through a class to correct missing values. When steps like this are used, they must be applied to each stage of learning, including training and testing. If training data is prepared one way, and testing data is prepared another way, the model will not know how to predict values for the different testing data, and it will give poor results. In order to automate these preprocessing steps for each stage of learning, a pipeline is created. A pipeline, supported by the scikit learn library, connects multiple steps together so that data can be sent through all the steps with one call."
   ]
  },
  {
   "cell_type": "code",
   "execution_count": 14,
   "metadata": {
    "id": "W21BEtCkscCn"
   },
   "outputs": [],
   "source": [
    "#importing libraries for preprocessing steps and building the pipeline\n",
    "\n",
    "from sklearn.pipeline import Pipeline, FeatureUnion\n",
    "from sklearn.compose import ColumnTransformer\n",
    "from sklearn.impute import SimpleImputer\n",
    "from sklearn.preprocessing import OneHotEncoder, StandardScaler"
   ]
  },
  {
   "cell_type": "markdown",
   "metadata": {
    "id": "h_HZC-QYUrYS"
   },
   "source": [
    "##### Columns to drop: old version"
   ]
  },
  {
   "cell_type": "code",
   "execution_count": null,
   "metadata": {
    "id": "wVbhY3twVhpZ"
   },
   "outputs": [],
   "source": [
    "housing['MSSubClass'] = housing['MSSubClass'].map(str)  # want to treat attribute as categorical variable\n",
    "\n",
    "num_cols = [col for col in housing.columns if housing[col].dtype in ['float64', 'int']]\n",
    "cat_cols = [col for col in housing.columns if housing[col].dtype == 'object']\n",
    "\n",
    "#features with too many null value, to drop\n",
    "num_drop_cols = [col for col in housing.columns if housing[col].isna().sum() > 350 and housing[col].dtype in ['float64', 'int64']]\n",
    "cat_drop_cols = [col for col in housing.columns if housing[col].isna().sum() > 350 and housing[col].dtype == 'object']\n",
    "\n",
    "#features with few unique values, to drop\n",
    "num_drop_counts = [col for col in housing.columns for count in housing[col].value_counts() if housing[col].dtype in ['float64', 'int64'] and count > 1400]\n",
    "cat_drop_counts = [col for col in housing.columns for count in housing[col].value_counts() if housing[col].dtype == 'object' and count > 1400]\n",
    "\n",
    "num_drop_cols += num_drop_counts  #all numerical features to drop\n",
    "cat_drop_cols += cat_drop_counts  #all categorical features to drop"
   ]
  },
  {
   "cell_type": "markdown",
   "metadata": {
    "id": "CI0NfV-uUznA"
   },
   "source": [
    "##### Columns to drop"
   ]
  },
  {
   "cell_type": "code",
   "execution_count": 15,
   "metadata": {
    "id": "QCNBzDpNUBJG"
   },
   "outputs": [],
   "source": [
    "housing['MSSubClass'] = housing['MSSubClass'].map(str)  # want to treat attribute as categorical variable\n",
    "\n",
    "#grabs numerical and categorical features respectively into arrays\n",
    "num_cols = [col for col in housing.columns if housing[col].dtype in ['float64', 'int']]\n",
    "cat_cols = [col for col in housing.columns if housing[col].dtype == 'object']\n",
    "\n",
    "#adds features with too many null value to an array, so they can be dropped later\n",
    "num_drop_cols = [col for col in num_cols if housing[col].isna().sum() > 350]\n",
    "cat_drop_cols = [col for col in cat_cols if housing[col].isna().sum() > 350]\n",
    "\n",
    "#adds features that have little variation to an array, so they can be dropped later\n",
    "num_drop_counts = [col for col in num_cols for count in housing[col].value_counts() if count > 1400]\n",
    "cat_drop_counts = [col for col in cat_cols for count in housing[col].value_counts() if count > 1400]\n",
    "\n",
    "num_drop_cols += num_drop_counts  #adds arrays to get all numerical features to drop\n",
    "cat_drop_cols += cat_drop_counts  #adds arrays to get all categorical features to drop\n"
   ]
  },
  {
   "cell_type": "code",
   "execution_count": 16,
   "metadata": {
    "colab": {
     "base_uri": "https://localhost:8080/"
    },
    "id": "7khOqer31RdR",
    "outputId": "41d168c6-b3df-4c21-bbaf-b6d94f7afc60"
   },
   "outputs": [
    {
     "data": {
      "text/plain": [
       "['LowQualFinSF', '3SsnPorch', 'PoolArea', 'MiscVal']"
      ]
     },
     "execution_count": 16,
     "metadata": {
      "tags": []
     },
     "output_type": "execute_result"
    }
   ],
   "source": [
    "num_drop_cols #just printing array to see which columns (features) will be dropped"
   ]
  },
  {
   "cell_type": "code",
   "execution_count": 17,
   "metadata": {
    "colab": {
     "base_uri": "https://localhost:8080/"
    },
    "id": "yTTZrbh_1TMl",
    "outputId": "8a46ff46-fdf6-4a59-8267-d401b40834d5"
   },
   "outputs": [
    {
     "data": {
      "text/plain": [
       "['Alley',\n",
       " 'FireplaceQu',\n",
       " 'PoolQC',\n",
       " 'Fence',\n",
       " 'MiscFeature',\n",
       " 'Street',\n",
       " 'Utilities',\n",
       " 'Condition2',\n",
       " 'RoofMatl',\n",
       " 'Heating']"
      ]
     },
     "execution_count": 17,
     "metadata": {
      "tags": []
     },
     "output_type": "execute_result"
    }
   ],
   "source": [
    "cat_drop_cols"
   ]
  },
  {
   "cell_type": "code",
   "execution_count": 18,
   "metadata": {
    "id": "X8jKT6_ytvtQ"
   },
   "outputs": [],
   "source": [
    "#imports two different machine learing models \n",
    "\n",
    "from sklearn.ensemble import RandomForestRegressor, GradientBoostingRegressor"
   ]
  },
  {
   "cell_type": "markdown",
   "metadata": {
    "id": "LCUKuMkGAqm3"
   },
   "source": [
    "##### Final Pipeline "
   ]
  },
  {
   "cell_type": "code",
   "execution_count": 19,
   "metadata": {
    "id": "WNAy3oOSs1O1"
   },
   "outputs": [],
   "source": [
    "#this is the pipeline for the numerical features\n",
    "#it links together the multiple preprocessing steps\n",
    "num_pipe = Pipeline([\n",
    "                     ('num_transform', num_transformer(feat_eng=True)), #custom transformer that adds new numerical features\n",
    "                     ('grabber', feature_grab((num_drop_cols + cat_cols), drop=True)), #drops the list of bad features\n",
    "                     ('imputer', SimpleImputer(strategy='median')), #fills in median of column for any missing values\n",
    "                     ('scaler', StandardScaler()), #scales the data \n",
    "])"
   ]
  },
  {
   "cell_type": "code",
   "execution_count": 20,
   "metadata": {
    "id": "Anwb1P7qtk53"
   },
   "outputs": [],
   "source": [
    "#this is the same pipeline, but adapting for categorical features\n",
    "cat_pipe = Pipeline([\n",
    "                     ('cat_transform', cat_transformer(feature_eng=True)),\n",
    "                     ('grabber', feature_grab((cat_drop_cols + num_cols), drop=True)),\n",
    "                     ('imputer', SimpleImputer(strategy='most_frequent')),\n",
    "                     ('onehot', OneHotEncoder(handle_unknown='ignore')), #this steps converts categorical features to\n",
    "                                                                         #numerical so that it can be used in a model\n",
    "])\n"
   ]
  },
  {
   "cell_type": "code",
   "execution_count": 21,
   "metadata": {
    "id": "aNyrrCjhaOL6"
   },
   "outputs": [],
   "source": [
    "#this pipeline combines the numerical and categorical pipelines\n",
    "prep_pipeline = FeatureUnion([\n",
    "                              ('num_pipe', num_pipe),\n",
    "                              ('cat_pipe', cat_pipe),\n",
    "])"
   ]
  },
  {
   "cell_type": "markdown",
   "metadata": {
    "id": "ab7VKsEjf8of"
   },
   "source": [
    "### **Building the model:**\n",
    ">At this stage, the preprocessing pipeline complete and must be added to the model. I'll show two different models, a Gradient Boosting Regressor and a Random Forest Regressor. "
   ]
  },
  {
   "cell_type": "code",
   "execution_count": 22,
   "metadata": {
    "id": "sn116NuWcg3r"
   },
   "outputs": [],
   "source": [
    "#the preprocessing pipeline is added, then the model is added.\n",
    "model_forest = Pipeline([\n",
    "                  ('prep', prep_pipeline),\n",
    "                  ('model', RandomForestRegressor(random_state=22)) #random state sets the random number seed\n",
    "])"
   ]
  },
  {
   "cell_type": "code",
   "execution_count": 23,
   "metadata": {
    "id": "5o4e-5r_udQP"
   },
   "outputs": [],
   "source": [
    "model_XGB = Pipeline([\n",
    "                      ('prep', prep_pipeline),\n",
    "                      ('model', GradientBoostingRegressor())\n",
    "])"
   ]
  },
  {
   "cell_type": "markdown",
   "metadata": {
    "id": "gPUqnagnMuk4"
   },
   "source": [
    "##### Test Pipeline: Limited features"
   ]
  },
  {
   "cell_type": "code",
   "execution_count": null,
   "metadata": {
    "id": "9g0cJkaLMt0v"
   },
   "outputs": [],
   "source": [
    "engineered_feats = ['YearBtwnRemod','PropertyAge','RemodAge','NewScore','BusyMonth','TotalSF','TotalBath','TotalPorchSF','TotalQual','TotalQualAvg','SFPerRoom']\n",
    "\n",
    "miny_model_XGB = Pipeline([\n",
    "                           ('num_transform', num_transformer()),\n",
    "                           ('grabber', feature_grab(engineered_feats)),\n",
    "                           ('imputer', SimpleImputer(strategy='median')),\n",
    "                           ('scaler', StandardScaler()),\n",
    "                           ('model', GradientBoostingRegressor()),\n",
    "])"
   ]
  },
  {
   "cell_type": "markdown",
   "metadata": {
    "id": "QrdxSEAGPCog"
   },
   "source": [
    "##### Other Pipelines"
   ]
  },
  {
   "cell_type": "code",
   "execution_count": null,
   "metadata": {
    "id": "_eMKUJDJOnVZ"
   },
   "outputs": [],
   "source": [
    "num_pipe1 = Pipeline([\n",
    "                     ('imputer', SimpleImputer(strategy='median')),\n",
    "                     ('scaler', StandardScaler()),\n",
    "])"
   ]
  },
  {
   "cell_type": "code",
   "execution_count": null,
   "metadata": {
    "id": "SiOz5uT4t5Lb"
   },
   "outputs": [],
   "source": [
    "model1 = Pipeline([\n",
    "                  ('select', FeatureSelector()),\n",
    "                  ('num', num_pipe1),\n",
    "                  ('model', RandomForestRegressor())\n",
    "])"
   ]
  },
  {
   "cell_type": "markdown",
   "metadata": {
    "id": "CElVKdsgAx8Z"
   },
   "source": [
    "### **Hyperparameter Tuning:**\n",
    ">Machine learning models have many parameters that dictate how it performs. In many instances, there is no good way to determine the optimized values, so trial and error is often used. A grid search takes in list of many hyperparameter and possible values, and then trains models with different combinations of these values on small batches of data. The model scores the different combinations, and at the end returns the best set of parameter that minimizes the given statistic for error."
   ]
  },
  {
   "cell_type": "code",
   "execution_count": 24,
   "metadata": {
    "id": "uqSuM6COueL1"
   },
   "outputs": [],
   "source": [
    "#imports the class for complete a Grid Search \n",
    "from sklearn.model_selection import GridSearchCV"
   ]
  },
  {
   "cell_type": "code",
   "execution_count": 25,
   "metadata": {
    "id": "-V0x-O3ewlnD"
   },
   "outputs": [],
   "source": [
    "#creates a list of different parameters and their possible values, to be passed to the GridSearch\n",
    "forest_params = [\n",
    "                 {'model__n_estimators': [80, 100, 150, 200]}\n",
    "]"
   ]
  },
  {
   "cell_type": "code",
   "execution_count": 26,
   "metadata": {
    "id": "48jAMA-nxZNP"
   },
   "outputs": [],
   "source": [
    "#creates the GridSearch object that will be called later\n",
    "#passed parameter of model, list of parameter, a scoring statistic, and additional tuning parameters \n",
    "forest_search_model = GridSearchCV(model_forest, forest_params, cv=5, scoring='neg_mean_squared_log_error', refit=True)"
   ]
  },
  {
   "cell_type": "code",
   "execution_count": 27,
   "metadata": {
    "colab": {
     "base_uri": "https://localhost:8080/"
    },
    "id": "bzL0syjtxwI7",
    "outputId": "f90e8660-2680-4a8e-e3a0-c5b6096ebe12"
   },
   "outputs": [
    {
     "data": {
      "text/plain": [
       "GridSearchCV(cv=5, error_score=nan,\n",
       "             estimator=Pipeline(memory=None,\n",
       "                                steps=[('prep',\n",
       "                                        FeatureUnion(n_jobs=None,\n",
       "                                                     transformer_list=[('num_pipe',\n",
       "                                                                        Pipeline(memory=None,\n",
       "                                                                                 steps=[('num_transform',\n",
       "                                                                                         num_transformer(feat_eng=True)),\n",
       "                                                                                        ('grabber',\n",
       "                                                                                         feature_grab(drop=True,\n",
       "                                                                                                      feature_cols=['LowQualFinSF',\n",
       "                                                                                                                    '3SsnPorch',\n",
       "                                                                                                                    'PoolArea',\n",
       "                                                                                                                    'MiscVal',\n",
       "                                                                                                                    'MSSubClass',\n",
       "                                                                                                                    'MSZoning',\n",
       "                                                                                                                    'Street',\n",
       "                                                                                                                    'Alley',\n",
       "                                                                                                                    '...\n",
       "                                                              min_samples_leaf=1,\n",
       "                                                              min_samples_split=2,\n",
       "                                                              min_weight_fraction_leaf=0.0,\n",
       "                                                              n_estimators=100,\n",
       "                                                              n_jobs=None,\n",
       "                                                              oob_score=False,\n",
       "                                                              random_state=22,\n",
       "                                                              verbose=0,\n",
       "                                                              warm_start=False))],\n",
       "                                verbose=False),\n",
       "             iid='deprecated', n_jobs=None,\n",
       "             param_grid=[{'model__n_estimators': [80, 100, 150, 200]}],\n",
       "             pre_dispatch='2*n_jobs', refit=True, return_train_score=False,\n",
       "             scoring='neg_mean_squared_log_error', verbose=0)"
      ]
     },
     "execution_count": 27,
     "metadata": {
      "tags": []
     },
     "output_type": "execute_result"
    }
   ],
   "source": [
    "#runs the GridSearch with the housing data and price data.\n",
    "forest_search_model.fit(features_full, prices) #default n_esitmators=100 best"
   ]
  },
  {
   "cell_type": "code",
   "execution_count": 28,
   "metadata": {
    "colab": {
     "base_uri": "https://localhost:8080/"
    },
    "id": "Z9SH7BQrf8ol",
    "outputId": "b70445d7-b59d-4dd2-af24-1df834f6763f"
   },
   "outputs": [
    {
     "data": {
      "text/plain": [
       "{'model__n_estimators': 150}"
      ]
     },
     "execution_count": 28,
     "metadata": {
      "tags": []
     },
     "output_type": "execute_result"
    }
   ],
   "source": [
    "forest_search_model.best_params_ #prints best parameters from search"
   ]
  },
  {
   "cell_type": "code",
   "execution_count": 29,
   "metadata": {
    "id": "CLEpsEiJzaLa"
   },
   "outputs": [],
   "source": [
    "forest_params2 = [\n",
    "                 {'model__n_estimators': [100, 110]}\n",
    "]"
   ]
  },
  {
   "cell_type": "code",
   "execution_count": null,
   "metadata": {
    "id": "zQAWeqMKzjWX"
   },
   "outputs": [],
   "source": [
    "forest_search_model2 = GridSearchCV(model_forest, forest_params2, cv=5, scoring='neg_mean_squared_log_error', refit=True)\n",
    "forest_search_model2.fit(features_full, prices) #default n_esitmators=100 best"
   ]
  },
  {
   "cell_type": "markdown",
   "metadata": {
    "id": "tLlOPEtOPUaF"
   },
   "source": [
    "##### Grid Search for simplified model"
   ]
  },
  {
   "cell_type": "code",
   "execution_count": null,
   "metadata": {
    "id": "CXDkVGTUuLc8"
   },
   "outputs": [],
   "source": [
    "param_grid = [\n",
    "              {'select__n_pos': [7, 8, 9, 10, 12], 'select__n_neg': [3, 4, 5, 6], 'model__n_estimators': [150, 200, 250]}\n",
    "]"
   ]
  },
  {
   "cell_type": "code",
   "execution_count": null,
   "metadata": {
    "id": "aqqYGv9UuWsk"
   },
   "outputs": [],
   "source": [
    "grid_search = GridSearchCV(model1, param_grid, cv=5, scoring='neg_mean_squared_error', refit=True)"
   ]
  },
  {
   "cell_type": "code",
   "execution_count": null,
   "metadata": {
    "colab": {
     "base_uri": "https://localhost:8080/"
    },
    "id": "sU4RA0e0yBgk",
    "outputId": "461e93dd-eda3-4223-dbe3-bad9aab9b456"
   },
   "outputs": [
    {
     "data": {
      "text/plain": [
       "GridSearchCV(cv=5, error_score=nan,\n",
       "             estimator=Pipeline(memory=None,\n",
       "                                steps=[('select',\n",
       "                                        FeatureSelector(n_neg=1, n_pos=3)),\n",
       "                                       ('num',\n",
       "                                        Pipeline(memory=None,\n",
       "                                                 steps=[('imputer',\n",
       "                                                         SimpleImputer(add_indicator=False,\n",
       "                                                                       copy=True,\n",
       "                                                                       fill_value=None,\n",
       "                                                                       missing_values=nan,\n",
       "                                                                       strategy='median',\n",
       "                                                                       verbose=0)),\n",
       "                                                        ('scaler',\n",
       "                                                         StandardScaler(copy=True,\n",
       "                                                                        with_mean=True,\n",
       "                                                                        with_std=True))],\n",
       "                                                 verbose=Fals...\n",
       "                                                              n_estimators=100,\n",
       "                                                              n_jobs=None,\n",
       "                                                              oob_score=False,\n",
       "                                                              random_state=None,\n",
       "                                                              verbose=0,\n",
       "                                                              warm_start=False))],\n",
       "                                verbose=False),\n",
       "             iid='deprecated', n_jobs=None,\n",
       "             param_grid=[{'model__n_estimators': [150, 200, 250, 300],\n",
       "                          'select__n_neg': [3, 4, 5, 6],\n",
       "                          'select__n_pos': [7, 8, 9, 10, 12]}],\n",
       "             pre_dispatch='2*n_jobs', refit=True, return_train_score=False,\n",
       "             scoring='neg_mean_squared_error', verbose=0)"
      ]
     },
     "execution_count": 31,
     "metadata": {
      "tags": []
     },
     "output_type": "execute_result"
    }
   ],
   "source": [
    "grid_search.fit(features_full, prices)"
   ]
  },
  {
   "cell_type": "code",
   "execution_count": null,
   "metadata": {
    "colab": {
     "base_uri": "https://localhost:8080/"
    },
    "id": "7tkzKZqSmQUO",
    "outputId": "aa1ca406-44f5-4c1c-fc20-579d651b16e2"
   },
   "outputs": [
    {
     "data": {
      "text/plain": [
       "{'model__n_estimators': 150, 'select__n_neg': 4, 'select__n_pos': 10}"
      ]
     },
     "execution_count": 32,
     "metadata": {
      "tags": []
     },
     "output_type": "execute_result"
    }
   ],
   "source": [
    "grid_search.best_params_"
   ]
  },
  {
   "cell_type": "code",
   "execution_count": null,
   "metadata": {
    "colab": {
     "base_uri": "https://localhost:8080/"
    },
    "id": "Qks7OLWJmwog",
    "outputId": "6a349f4b-b83f-40f5-ac78-fd337a97460a"
   },
   "outputs": [
    {
     "data": {
      "text/plain": [
       "31574.258305688454"
      ]
     },
     "execution_count": 33,
     "metadata": {
      "tags": []
     },
     "output_type": "execute_result"
    }
   ],
   "source": [
    "np.sqrt(-1*grid_search.best_score_)"
   ]
  },
  {
   "cell_type": "markdown",
   "metadata": {
    "id": "ndR9NtsFf8oq"
   },
   "source": [
    "##### Saving the model"
   ]
  },
  {
   "cell_type": "code",
   "execution_count": null,
   "metadata": {
    "id": "1lfahYm0hKLW"
   },
   "outputs": [],
   "source": [
    "import joblib"
   ]
  },
  {
   "cell_type": "code",
   "execution_count": null,
   "metadata": {
    "id": "kgC5ISY9Ey6Y"
   },
   "outputs": [],
   "source": [
    "joblib.dump(grid_search.best_estimator_, 'house_price_model.pkl')"
   ]
  },
  {
   "cell_type": "code",
   "execution_count": null,
   "metadata": {
    "id": "SRhF5ZXwF2E8"
   },
   "outputs": [],
   "source": [
    "model = joblib.load('house_price_model.pkl')"
   ]
  },
  {
   "cell_type": "code",
   "execution_count": null,
   "metadata": {
    "id": "CJuPFPr5HmhV"
   },
   "outputs": [],
   "source": [
    "forest_reg = Pipeline([\n",
    "                       ('select', FeatureSelector(n_neg=4, n_pos=10)),\n",
    "                       ('num', num_pipe),\n",
    "                       ('model', RandomForestRegressor(n_estimators=150))\n",
    "])"
   ]
  },
  {
   "cell_type": "markdown",
   "metadata": {
    "id": "-IARO3eOPrk9"
   },
   "source": [
    "### **Scoring - validation:**\n",
    ">Using metrics for scoring helps identify how the model is performing. The metric may measure the accuracy of a classification problem, the average error for a regression problem, or any other metric that may be suited for te problem. When working on machine learning problems, a test set is kept separate from the training data. A concern when training models is the potential to overfit training data, that is, learn patterns of the training data that doesn't generalize to the population of data. By keeping a test dataset separate, it can help score how the model generalizes to real world data."
   ]
  },
  {
   "cell_type": "code",
   "execution_count": 31,
   "metadata": {
    "id": "iSQkxHVWwH_8"
   },
   "outputs": [],
   "source": [
    "#takes lists of neg_mean_squared_log_error scores and returns one mean_log_error score\n",
    "def get_score(scores):\n",
    "  return np.sqrt(-scores).mean()"
   ]
  },
  {
   "cell_type": "code",
   "execution_count": 32,
   "metadata": {
    "id": "5ADYcDO5H1b5"
   },
   "outputs": [],
   "source": [
    "#imports a class for performing cross validation scores\n",
    "#splits data into folds, 5 for example, and then trains data on all but one fold and test data on that remaining fold.\n",
    "#repeats process for the number of folds specified\n",
    "from sklearn.model_selection import cross_val_score"
   ]
  },
  {
   "cell_type": "code",
   "execution_count": 33,
   "metadata": {
    "id": "EgethKTMc1Vg"
   },
   "outputs": [],
   "source": [
    "#this performs a cross validation score, by passing the model, the data, the scoring metric, and the number of folds (cv)\n",
    "scores_forest = cross_val_score(model_forest, features_full, prices, scoring='neg_mean_squared_log_error', cv=5)"
   ]
  },
  {
   "cell_type": "code",
   "execution_count": 34,
   "metadata": {
    "colab": {
     "base_uri": "https://localhost:8080/"
    },
    "id": "wxM89nu2iQCD",
    "outputId": "a5a7c376-2a4b-4d1d-f253-a633b7988dc6"
   },
   "outputs": [
    {
     "data": {
      "text/plain": [
       "0.14159116793889434"
      ]
     },
     "execution_count": 34,
     "metadata": {
      "tags": []
     },
     "output_type": "execute_result"
    }
   ],
   "source": [
    "#returns mean log error from random forest model with preprocessing pipeline\n",
    "get_score(scores_forest)"
   ]
  },
  {
   "cell_type": "code",
   "execution_count": 35,
   "metadata": {
    "id": "C__Dmir2u6tI"
   },
   "outputs": [],
   "source": [
    "scores_XGB = cross_val_score(model_XGB, features_full, prices, scoring='neg_mean_squared_log_error', cv=5)"
   ]
  },
  {
   "cell_type": "code",
   "execution_count": 36,
   "metadata": {
    "colab": {
     "base_uri": "https://localhost:8080/"
    },
    "id": "zWqQoV8VvVMA",
    "outputId": "e93f43e3-dde1-4ccc-e076-69dcfb970676"
   },
   "outputs": [
    {
     "data": {
      "text/plain": [
       "0.12981787258446095"
      ]
     },
     "execution_count": 36,
     "metadata": {
      "tags": []
     },
     "output_type": "execute_result"
    }
   ],
   "source": [
    "#score from gradient boosting model\n",
    "get_score(scores_XGB)"
   ]
  },
  {
   "cell_type": "code",
   "execution_count": null,
   "metadata": {
    "id": "hi9_EgsvOjp0"
   },
   "outputs": [],
   "source": [
    "scores_mini_XGB = cross_val_score(miny_model_XGB, features_full, prices, scoring='neg_mean_squared_log_error', cv=5)"
   ]
  },
  {
   "cell_type": "code",
   "execution_count": null,
   "metadata": {
    "id": "2it5oYm9OyuA"
   },
   "outputs": [],
   "source": [
    "get_score(scores_mini_XGB)"
   ]
  },
  {
   "cell_type": "markdown",
   "metadata": {
    "id": "-OuXMPdAcGIl"
   },
   "source": [
    "#####S core version1"
   ]
  },
  {
   "cell_type": "code",
   "execution_count": null,
   "metadata": {
    "id": "6MZ1Fyx0Jcz5"
   },
   "outputs": [],
   "source": [
    "sklearn.metrics.SCORERS"
   ]
  },
  {
   "cell_type": "code",
   "execution_count": null,
   "metadata": {
    "id": "Py6o2K9oIgQq"
   },
   "outputs": [],
   "source": [
    "scores = cross_val_score(forest_reg, features_full, prices, scoring='neg_mean_squared_log_error', cv=5)"
   ]
  },
  {
   "cell_type": "code",
   "execution_count": null,
   "metadata": {
    "colab": {
     "base_uri": "https://localhost:8080/"
    },
    "id": "a6nyuQo4KATq",
    "outputId": "7802f64b-c0e7-41e1-e1c2-b365b0c8cc66"
   },
   "outputs": [
    {
     "data": {
      "text/plain": [
       "0.1551813351038413"
      ]
     },
     "execution_count": 41,
     "metadata": {
      "tags": []
     },
     "output_type": "execute_result"
    }
   ],
   "source": [
    "np.sqrt(-scores.mean())"
   ]
  },
  {
   "cell_type": "markdown",
   "metadata": {
    "id": "nXc_nDor4AOe"
   },
   "source": [
    "### **Scoring - test set:**\n",
    ">Since this dataset is from a kaggle competition, they do not give the target values for the test set. Instead, the model predicts values for the test set, those values are submitted to kaggle, and kaggle returns a score metric by comparing the predicted values to the actual values."
   ]
  },
  {
   "cell_type": "code",
   "execution_count": 38,
   "metadata": {
    "id": "Aqztd0je67IE"
   },
   "outputs": [],
   "source": [
    "#creates a dataframe with one column from the test set Id column\n",
    "submission = pd.DataFrame(test['Id'])"
   ]
  },
  {
   "cell_type": "code",
   "execution_count": 39,
   "metadata": {
    "colab": {
     "base_uri": "https://localhost:8080/",
     "height": 224
    },
    "id": "PCDnfCiR7UWK",
    "outputId": "6ce1d8bd-10d4-49c6-bc4a-c128735f8afe"
   },
   "outputs": [
    {
     "data": {
      "text/html": [
       "<div>\n",
       "<style scoped>\n",
       "    .dataframe tbody tr th:only-of-type {\n",
       "        vertical-align: middle;\n",
       "    }\n",
       "\n",
       "    .dataframe tbody tr th {\n",
       "        vertical-align: top;\n",
       "    }\n",
       "\n",
       "    .dataframe thead th {\n",
       "        text-align: right;\n",
       "    }\n",
       "</style>\n",
       "<table border=\"1\" class=\"dataframe\">\n",
       "  <thead>\n",
       "    <tr style=\"text-align: right;\">\n",
       "      <th></th>\n",
       "      <th>Id</th>\n",
       "      <th>MSSubClass</th>\n",
       "      <th>MSZoning</th>\n",
       "      <th>LotFrontage</th>\n",
       "      <th>LotArea</th>\n",
       "      <th>Street</th>\n",
       "      <th>Alley</th>\n",
       "      <th>LotShape</th>\n",
       "      <th>LandContour</th>\n",
       "      <th>Utilities</th>\n",
       "      <th>LotConfig</th>\n",
       "      <th>LandSlope</th>\n",
       "      <th>Neighborhood</th>\n",
       "      <th>Condition1</th>\n",
       "      <th>Condition2</th>\n",
       "      <th>BldgType</th>\n",
       "      <th>HouseStyle</th>\n",
       "      <th>OverallQual</th>\n",
       "      <th>OverallCond</th>\n",
       "      <th>YearBuilt</th>\n",
       "      <th>YearRemodAdd</th>\n",
       "      <th>RoofStyle</th>\n",
       "      <th>RoofMatl</th>\n",
       "      <th>Exterior1st</th>\n",
       "      <th>Exterior2nd</th>\n",
       "      <th>MasVnrType</th>\n",
       "      <th>MasVnrArea</th>\n",
       "      <th>ExterQual</th>\n",
       "      <th>ExterCond</th>\n",
       "      <th>Foundation</th>\n",
       "      <th>BsmtQual</th>\n",
       "      <th>BsmtCond</th>\n",
       "      <th>BsmtExposure</th>\n",
       "      <th>BsmtFinType1</th>\n",
       "      <th>BsmtFinSF1</th>\n",
       "      <th>BsmtFinType2</th>\n",
       "      <th>BsmtFinSF2</th>\n",
       "      <th>BsmtUnfSF</th>\n",
       "      <th>TotalBsmtSF</th>\n",
       "      <th>Heating</th>\n",
       "      <th>HeatingQC</th>\n",
       "      <th>CentralAir</th>\n",
       "      <th>Electrical</th>\n",
       "      <th>1stFlrSF</th>\n",
       "      <th>2ndFlrSF</th>\n",
       "      <th>LowQualFinSF</th>\n",
       "      <th>GrLivArea</th>\n",
       "      <th>BsmtFullBath</th>\n",
       "      <th>BsmtHalfBath</th>\n",
       "      <th>FullBath</th>\n",
       "      <th>HalfBath</th>\n",
       "      <th>BedroomAbvGr</th>\n",
       "      <th>KitchenAbvGr</th>\n",
       "      <th>KitchenQual</th>\n",
       "      <th>TotRmsAbvGrd</th>\n",
       "      <th>Functional</th>\n",
       "      <th>Fireplaces</th>\n",
       "      <th>FireplaceQu</th>\n",
       "      <th>GarageType</th>\n",
       "      <th>GarageYrBlt</th>\n",
       "      <th>GarageFinish</th>\n",
       "      <th>GarageCars</th>\n",
       "      <th>GarageArea</th>\n",
       "      <th>GarageQual</th>\n",
       "      <th>GarageCond</th>\n",
       "      <th>PavedDrive</th>\n",
       "      <th>WoodDeckSF</th>\n",
       "      <th>OpenPorchSF</th>\n",
       "      <th>EnclosedPorch</th>\n",
       "      <th>3SsnPorch</th>\n",
       "      <th>ScreenPorch</th>\n",
       "      <th>PoolArea</th>\n",
       "      <th>PoolQC</th>\n",
       "      <th>Fence</th>\n",
       "      <th>MiscFeature</th>\n",
       "      <th>MiscVal</th>\n",
       "      <th>MoSold</th>\n",
       "      <th>YrSold</th>\n",
       "      <th>SaleType</th>\n",
       "      <th>SaleCondition</th>\n",
       "    </tr>\n",
       "  </thead>\n",
       "  <tbody>\n",
       "    <tr>\n",
       "      <th>0</th>\n",
       "      <td>1461</td>\n",
       "      <td>20</td>\n",
       "      <td>RH</td>\n",
       "      <td>80.0</td>\n",
       "      <td>11622</td>\n",
       "      <td>Pave</td>\n",
       "      <td>NaN</td>\n",
       "      <td>Reg</td>\n",
       "      <td>Lvl</td>\n",
       "      <td>AllPub</td>\n",
       "      <td>Inside</td>\n",
       "      <td>Gtl</td>\n",
       "      <td>NAmes</td>\n",
       "      <td>Feedr</td>\n",
       "      <td>Norm</td>\n",
       "      <td>1Fam</td>\n",
       "      <td>1Story</td>\n",
       "      <td>5</td>\n",
       "      <td>6</td>\n",
       "      <td>1961</td>\n",
       "      <td>1961</td>\n",
       "      <td>Gable</td>\n",
       "      <td>CompShg</td>\n",
       "      <td>VinylSd</td>\n",
       "      <td>VinylSd</td>\n",
       "      <td>None</td>\n",
       "      <td>0.0</td>\n",
       "      <td>TA</td>\n",
       "      <td>TA</td>\n",
       "      <td>CBlock</td>\n",
       "      <td>TA</td>\n",
       "      <td>TA</td>\n",
       "      <td>No</td>\n",
       "      <td>Rec</td>\n",
       "      <td>468.0</td>\n",
       "      <td>LwQ</td>\n",
       "      <td>144.0</td>\n",
       "      <td>270.0</td>\n",
       "      <td>882.0</td>\n",
       "      <td>GasA</td>\n",
       "      <td>TA</td>\n",
       "      <td>Y</td>\n",
       "      <td>SBrkr</td>\n",
       "      <td>896</td>\n",
       "      <td>0</td>\n",
       "      <td>0</td>\n",
       "      <td>896</td>\n",
       "      <td>0.0</td>\n",
       "      <td>0.0</td>\n",
       "      <td>1</td>\n",
       "      <td>0</td>\n",
       "      <td>2</td>\n",
       "      <td>1</td>\n",
       "      <td>TA</td>\n",
       "      <td>5</td>\n",
       "      <td>Typ</td>\n",
       "      <td>0</td>\n",
       "      <td>NaN</td>\n",
       "      <td>Attchd</td>\n",
       "      <td>1961.0</td>\n",
       "      <td>Unf</td>\n",
       "      <td>1.0</td>\n",
       "      <td>730.0</td>\n",
       "      <td>TA</td>\n",
       "      <td>TA</td>\n",
       "      <td>Y</td>\n",
       "      <td>140</td>\n",
       "      <td>0</td>\n",
       "      <td>0</td>\n",
       "      <td>0</td>\n",
       "      <td>120</td>\n",
       "      <td>0</td>\n",
       "      <td>NaN</td>\n",
       "      <td>MnPrv</td>\n",
       "      <td>NaN</td>\n",
       "      <td>0</td>\n",
       "      <td>6</td>\n",
       "      <td>2010</td>\n",
       "      <td>WD</td>\n",
       "      <td>Normal</td>\n",
       "    </tr>\n",
       "    <tr>\n",
       "      <th>1</th>\n",
       "      <td>1462</td>\n",
       "      <td>20</td>\n",
       "      <td>RL</td>\n",
       "      <td>81.0</td>\n",
       "      <td>14267</td>\n",
       "      <td>Pave</td>\n",
       "      <td>NaN</td>\n",
       "      <td>IR1</td>\n",
       "      <td>Lvl</td>\n",
       "      <td>AllPub</td>\n",
       "      <td>Corner</td>\n",
       "      <td>Gtl</td>\n",
       "      <td>NAmes</td>\n",
       "      <td>Norm</td>\n",
       "      <td>Norm</td>\n",
       "      <td>1Fam</td>\n",
       "      <td>1Story</td>\n",
       "      <td>6</td>\n",
       "      <td>6</td>\n",
       "      <td>1958</td>\n",
       "      <td>1958</td>\n",
       "      <td>Hip</td>\n",
       "      <td>CompShg</td>\n",
       "      <td>Wd Sdng</td>\n",
       "      <td>Wd Sdng</td>\n",
       "      <td>BrkFace</td>\n",
       "      <td>108.0</td>\n",
       "      <td>TA</td>\n",
       "      <td>TA</td>\n",
       "      <td>CBlock</td>\n",
       "      <td>TA</td>\n",
       "      <td>TA</td>\n",
       "      <td>No</td>\n",
       "      <td>ALQ</td>\n",
       "      <td>923.0</td>\n",
       "      <td>Unf</td>\n",
       "      <td>0.0</td>\n",
       "      <td>406.0</td>\n",
       "      <td>1329.0</td>\n",
       "      <td>GasA</td>\n",
       "      <td>TA</td>\n",
       "      <td>Y</td>\n",
       "      <td>SBrkr</td>\n",
       "      <td>1329</td>\n",
       "      <td>0</td>\n",
       "      <td>0</td>\n",
       "      <td>1329</td>\n",
       "      <td>0.0</td>\n",
       "      <td>0.0</td>\n",
       "      <td>1</td>\n",
       "      <td>1</td>\n",
       "      <td>3</td>\n",
       "      <td>1</td>\n",
       "      <td>Gd</td>\n",
       "      <td>6</td>\n",
       "      <td>Typ</td>\n",
       "      <td>0</td>\n",
       "      <td>NaN</td>\n",
       "      <td>Attchd</td>\n",
       "      <td>1958.0</td>\n",
       "      <td>Unf</td>\n",
       "      <td>1.0</td>\n",
       "      <td>312.0</td>\n",
       "      <td>TA</td>\n",
       "      <td>TA</td>\n",
       "      <td>Y</td>\n",
       "      <td>393</td>\n",
       "      <td>36</td>\n",
       "      <td>0</td>\n",
       "      <td>0</td>\n",
       "      <td>0</td>\n",
       "      <td>0</td>\n",
       "      <td>NaN</td>\n",
       "      <td>NaN</td>\n",
       "      <td>Gar2</td>\n",
       "      <td>12500</td>\n",
       "      <td>6</td>\n",
       "      <td>2010</td>\n",
       "      <td>WD</td>\n",
       "      <td>Normal</td>\n",
       "    </tr>\n",
       "    <tr>\n",
       "      <th>2</th>\n",
       "      <td>1463</td>\n",
       "      <td>60</td>\n",
       "      <td>RL</td>\n",
       "      <td>74.0</td>\n",
       "      <td>13830</td>\n",
       "      <td>Pave</td>\n",
       "      <td>NaN</td>\n",
       "      <td>IR1</td>\n",
       "      <td>Lvl</td>\n",
       "      <td>AllPub</td>\n",
       "      <td>Inside</td>\n",
       "      <td>Gtl</td>\n",
       "      <td>Gilbert</td>\n",
       "      <td>Norm</td>\n",
       "      <td>Norm</td>\n",
       "      <td>1Fam</td>\n",
       "      <td>2Story</td>\n",
       "      <td>5</td>\n",
       "      <td>5</td>\n",
       "      <td>1997</td>\n",
       "      <td>1998</td>\n",
       "      <td>Gable</td>\n",
       "      <td>CompShg</td>\n",
       "      <td>VinylSd</td>\n",
       "      <td>VinylSd</td>\n",
       "      <td>None</td>\n",
       "      <td>0.0</td>\n",
       "      <td>TA</td>\n",
       "      <td>TA</td>\n",
       "      <td>PConc</td>\n",
       "      <td>Gd</td>\n",
       "      <td>TA</td>\n",
       "      <td>No</td>\n",
       "      <td>GLQ</td>\n",
       "      <td>791.0</td>\n",
       "      <td>Unf</td>\n",
       "      <td>0.0</td>\n",
       "      <td>137.0</td>\n",
       "      <td>928.0</td>\n",
       "      <td>GasA</td>\n",
       "      <td>Gd</td>\n",
       "      <td>Y</td>\n",
       "      <td>SBrkr</td>\n",
       "      <td>928</td>\n",
       "      <td>701</td>\n",
       "      <td>0</td>\n",
       "      <td>1629</td>\n",
       "      <td>0.0</td>\n",
       "      <td>0.0</td>\n",
       "      <td>2</td>\n",
       "      <td>1</td>\n",
       "      <td>3</td>\n",
       "      <td>1</td>\n",
       "      <td>TA</td>\n",
       "      <td>6</td>\n",
       "      <td>Typ</td>\n",
       "      <td>1</td>\n",
       "      <td>TA</td>\n",
       "      <td>Attchd</td>\n",
       "      <td>1997.0</td>\n",
       "      <td>Fin</td>\n",
       "      <td>2.0</td>\n",
       "      <td>482.0</td>\n",
       "      <td>TA</td>\n",
       "      <td>TA</td>\n",
       "      <td>Y</td>\n",
       "      <td>212</td>\n",
       "      <td>34</td>\n",
       "      <td>0</td>\n",
       "      <td>0</td>\n",
       "      <td>0</td>\n",
       "      <td>0</td>\n",
       "      <td>NaN</td>\n",
       "      <td>MnPrv</td>\n",
       "      <td>NaN</td>\n",
       "      <td>0</td>\n",
       "      <td>3</td>\n",
       "      <td>2010</td>\n",
       "      <td>WD</td>\n",
       "      <td>Normal</td>\n",
       "    </tr>\n",
       "    <tr>\n",
       "      <th>3</th>\n",
       "      <td>1464</td>\n",
       "      <td>60</td>\n",
       "      <td>RL</td>\n",
       "      <td>78.0</td>\n",
       "      <td>9978</td>\n",
       "      <td>Pave</td>\n",
       "      <td>NaN</td>\n",
       "      <td>IR1</td>\n",
       "      <td>Lvl</td>\n",
       "      <td>AllPub</td>\n",
       "      <td>Inside</td>\n",
       "      <td>Gtl</td>\n",
       "      <td>Gilbert</td>\n",
       "      <td>Norm</td>\n",
       "      <td>Norm</td>\n",
       "      <td>1Fam</td>\n",
       "      <td>2Story</td>\n",
       "      <td>6</td>\n",
       "      <td>6</td>\n",
       "      <td>1998</td>\n",
       "      <td>1998</td>\n",
       "      <td>Gable</td>\n",
       "      <td>CompShg</td>\n",
       "      <td>VinylSd</td>\n",
       "      <td>VinylSd</td>\n",
       "      <td>BrkFace</td>\n",
       "      <td>20.0</td>\n",
       "      <td>TA</td>\n",
       "      <td>TA</td>\n",
       "      <td>PConc</td>\n",
       "      <td>TA</td>\n",
       "      <td>TA</td>\n",
       "      <td>No</td>\n",
       "      <td>GLQ</td>\n",
       "      <td>602.0</td>\n",
       "      <td>Unf</td>\n",
       "      <td>0.0</td>\n",
       "      <td>324.0</td>\n",
       "      <td>926.0</td>\n",
       "      <td>GasA</td>\n",
       "      <td>Ex</td>\n",
       "      <td>Y</td>\n",
       "      <td>SBrkr</td>\n",
       "      <td>926</td>\n",
       "      <td>678</td>\n",
       "      <td>0</td>\n",
       "      <td>1604</td>\n",
       "      <td>0.0</td>\n",
       "      <td>0.0</td>\n",
       "      <td>2</td>\n",
       "      <td>1</td>\n",
       "      <td>3</td>\n",
       "      <td>1</td>\n",
       "      <td>Gd</td>\n",
       "      <td>7</td>\n",
       "      <td>Typ</td>\n",
       "      <td>1</td>\n",
       "      <td>Gd</td>\n",
       "      <td>Attchd</td>\n",
       "      <td>1998.0</td>\n",
       "      <td>Fin</td>\n",
       "      <td>2.0</td>\n",
       "      <td>470.0</td>\n",
       "      <td>TA</td>\n",
       "      <td>TA</td>\n",
       "      <td>Y</td>\n",
       "      <td>360</td>\n",
       "      <td>36</td>\n",
       "      <td>0</td>\n",
       "      <td>0</td>\n",
       "      <td>0</td>\n",
       "      <td>0</td>\n",
       "      <td>NaN</td>\n",
       "      <td>NaN</td>\n",
       "      <td>NaN</td>\n",
       "      <td>0</td>\n",
       "      <td>6</td>\n",
       "      <td>2010</td>\n",
       "      <td>WD</td>\n",
       "      <td>Normal</td>\n",
       "    </tr>\n",
       "    <tr>\n",
       "      <th>4</th>\n",
       "      <td>1465</td>\n",
       "      <td>120</td>\n",
       "      <td>RL</td>\n",
       "      <td>43.0</td>\n",
       "      <td>5005</td>\n",
       "      <td>Pave</td>\n",
       "      <td>NaN</td>\n",
       "      <td>IR1</td>\n",
       "      <td>HLS</td>\n",
       "      <td>AllPub</td>\n",
       "      <td>Inside</td>\n",
       "      <td>Gtl</td>\n",
       "      <td>StoneBr</td>\n",
       "      <td>Norm</td>\n",
       "      <td>Norm</td>\n",
       "      <td>TwnhsE</td>\n",
       "      <td>1Story</td>\n",
       "      <td>8</td>\n",
       "      <td>5</td>\n",
       "      <td>1992</td>\n",
       "      <td>1992</td>\n",
       "      <td>Gable</td>\n",
       "      <td>CompShg</td>\n",
       "      <td>HdBoard</td>\n",
       "      <td>HdBoard</td>\n",
       "      <td>None</td>\n",
       "      <td>0.0</td>\n",
       "      <td>Gd</td>\n",
       "      <td>TA</td>\n",
       "      <td>PConc</td>\n",
       "      <td>Gd</td>\n",
       "      <td>TA</td>\n",
       "      <td>No</td>\n",
       "      <td>ALQ</td>\n",
       "      <td>263.0</td>\n",
       "      <td>Unf</td>\n",
       "      <td>0.0</td>\n",
       "      <td>1017.0</td>\n",
       "      <td>1280.0</td>\n",
       "      <td>GasA</td>\n",
       "      <td>Ex</td>\n",
       "      <td>Y</td>\n",
       "      <td>SBrkr</td>\n",
       "      <td>1280</td>\n",
       "      <td>0</td>\n",
       "      <td>0</td>\n",
       "      <td>1280</td>\n",
       "      <td>0.0</td>\n",
       "      <td>0.0</td>\n",
       "      <td>2</td>\n",
       "      <td>0</td>\n",
       "      <td>2</td>\n",
       "      <td>1</td>\n",
       "      <td>Gd</td>\n",
       "      <td>5</td>\n",
       "      <td>Typ</td>\n",
       "      <td>0</td>\n",
       "      <td>NaN</td>\n",
       "      <td>Attchd</td>\n",
       "      <td>1992.0</td>\n",
       "      <td>RFn</td>\n",
       "      <td>2.0</td>\n",
       "      <td>506.0</td>\n",
       "      <td>TA</td>\n",
       "      <td>TA</td>\n",
       "      <td>Y</td>\n",
       "      <td>0</td>\n",
       "      <td>82</td>\n",
       "      <td>0</td>\n",
       "      <td>0</td>\n",
       "      <td>144</td>\n",
       "      <td>0</td>\n",
       "      <td>NaN</td>\n",
       "      <td>NaN</td>\n",
       "      <td>NaN</td>\n",
       "      <td>0</td>\n",
       "      <td>1</td>\n",
       "      <td>2010</td>\n",
       "      <td>WD</td>\n",
       "      <td>Normal</td>\n",
       "    </tr>\n",
       "  </tbody>\n",
       "</table>\n",
       "</div>"
      ],
      "text/plain": [
       "     Id  MSSubClass MSZoning  ...  YrSold  SaleType SaleCondition\n",
       "0  1461          20       RH  ...    2010        WD        Normal\n",
       "1  1462          20       RL  ...    2010        WD        Normal\n",
       "2  1463          60       RL  ...    2010        WD        Normal\n",
       "3  1464          60       RL  ...    2010        WD        Normal\n",
       "4  1465         120       RL  ...    2010        WD        Normal\n",
       "\n",
       "[5 rows x 80 columns]"
      ]
     },
     "execution_count": 39,
     "metadata": {
      "tags": []
     },
     "output_type": "execute_result"
    }
   ],
   "source": [
    "test.head()"
   ]
  },
  {
   "cell_type": "code",
   "execution_count": 40,
   "metadata": {
    "colab": {
     "base_uri": "https://localhost:8080/",
     "height": 204
    },
    "id": "jjti5tg26_8-",
    "outputId": "55c65862-36fe-4d11-ba84-c8caa46fc6f0"
   },
   "outputs": [
    {
     "data": {
      "text/html": [
       "<div>\n",
       "<style scoped>\n",
       "    .dataframe tbody tr th:only-of-type {\n",
       "        vertical-align: middle;\n",
       "    }\n",
       "\n",
       "    .dataframe tbody tr th {\n",
       "        vertical-align: top;\n",
       "    }\n",
       "\n",
       "    .dataframe thead th {\n",
       "        text-align: right;\n",
       "    }\n",
       "</style>\n",
       "<table border=\"1\" class=\"dataframe\">\n",
       "  <thead>\n",
       "    <tr style=\"text-align: right;\">\n",
       "      <th></th>\n",
       "      <th>Id</th>\n",
       "    </tr>\n",
       "  </thead>\n",
       "  <tbody>\n",
       "    <tr>\n",
       "      <th>0</th>\n",
       "      <td>1461</td>\n",
       "    </tr>\n",
       "    <tr>\n",
       "      <th>1</th>\n",
       "      <td>1462</td>\n",
       "    </tr>\n",
       "    <tr>\n",
       "      <th>2</th>\n",
       "      <td>1463</td>\n",
       "    </tr>\n",
       "    <tr>\n",
       "      <th>3</th>\n",
       "      <td>1464</td>\n",
       "    </tr>\n",
       "    <tr>\n",
       "      <th>4</th>\n",
       "      <td>1465</td>\n",
       "    </tr>\n",
       "  </tbody>\n",
       "</table>\n",
       "</div>"
      ],
      "text/plain": [
       "     Id\n",
       "0  1461\n",
       "1  1462\n",
       "2  1463\n",
       "3  1464\n",
       "4  1465"
      ]
     },
     "execution_count": 40,
     "metadata": {
      "tags": []
     },
     "output_type": "execute_result"
    }
   ],
   "source": [
    "submission.head()"
   ]
  },
  {
   "cell_type": "code",
   "execution_count": 41,
   "metadata": {
    "colab": {
     "base_uri": "https://localhost:8080/"
    },
    "id": "a1Efd76d5Nqm",
    "outputId": "ffc8507e-9d8b-4e86-fe53-25cdefb40ecb"
   },
   "outputs": [
    {
     "data": {
      "text/plain": [
       "Pipeline(memory=None,\n",
       "         steps=[('prep',\n",
       "                 FeatureUnion(n_jobs=None,\n",
       "                              transformer_list=[('num_pipe',\n",
       "                                                 Pipeline(memory=None,\n",
       "                                                          steps=[('num_transform',\n",
       "                                                                  num_transformer(feat_eng=True)),\n",
       "                                                                 ('grabber',\n",
       "                                                                  feature_grab(drop=True,\n",
       "                                                                               feature_cols=['LowQualFinSF',\n",
       "                                                                                             '3SsnPorch',\n",
       "                                                                                             'PoolArea',\n",
       "                                                                                             'MiscVal',\n",
       "                                                                                             'MSSubClass',\n",
       "                                                                                             'MSZoning',\n",
       "                                                                                             'Street',\n",
       "                                                                                             'Alley',\n",
       "                                                                                             'LotShape',\n",
       "                                                                                             'LandContour',\n",
       "                                                                                             'Utilities',\n",
       "                                                                                             'LotConf...\n",
       "                                           learning_rate=0.1, loss='ls',\n",
       "                                           max_depth=3, max_features=None,\n",
       "                                           max_leaf_nodes=None,\n",
       "                                           min_impurity_decrease=0.0,\n",
       "                                           min_impurity_split=None,\n",
       "                                           min_samples_leaf=1,\n",
       "                                           min_samples_split=2,\n",
       "                                           min_weight_fraction_leaf=0.0,\n",
       "                                           n_estimators=100,\n",
       "                                           n_iter_no_change=None,\n",
       "                                           presort='deprecated',\n",
       "                                           random_state=None, subsample=1.0,\n",
       "                                           tol=0.0001, validation_fraction=0.1,\n",
       "                                           verbose=0, warm_start=False))],\n",
       "         verbose=False)"
      ]
     },
     "execution_count": 41,
     "metadata": {
      "tags": []
     },
     "output_type": "execute_result"
    }
   ],
   "source": [
    "#trains the model on all the data, training and validation\n",
    "model_XGB.fit(features_full, prices)"
   ]
  },
  {
   "cell_type": "code",
   "execution_count": 42,
   "metadata": {
    "id": "HT8jm8K1f8ox"
   },
   "outputs": [],
   "source": [
    "#predicts values for the test data and adds column of those values to submission dataframe\n",
    "submission['SalePrice'] = model_XGB.predict(test)"
   ]
  },
  {
   "cell_type": "code",
   "execution_count": 43,
   "metadata": {
    "colab": {
     "base_uri": "https://localhost:8080/",
     "height": 204
    },
    "id": "W0wGFV327kB0",
    "outputId": "4e699c56-e2ad-4c29-e295-6acd92d26bf8"
   },
   "outputs": [
    {
     "data": {
      "text/html": [
       "<div>\n",
       "<style scoped>\n",
       "    .dataframe tbody tr th:only-of-type {\n",
       "        vertical-align: middle;\n",
       "    }\n",
       "\n",
       "    .dataframe tbody tr th {\n",
       "        vertical-align: top;\n",
       "    }\n",
       "\n",
       "    .dataframe thead th {\n",
       "        text-align: right;\n",
       "    }\n",
       "</style>\n",
       "<table border=\"1\" class=\"dataframe\">\n",
       "  <thead>\n",
       "    <tr style=\"text-align: right;\">\n",
       "      <th></th>\n",
       "      <th>Id</th>\n",
       "      <th>SalePrice</th>\n",
       "    </tr>\n",
       "  </thead>\n",
       "  <tbody>\n",
       "    <tr>\n",
       "      <th>0</th>\n",
       "      <td>1461</td>\n",
       "      <td>125489.083410</td>\n",
       "    </tr>\n",
       "    <tr>\n",
       "      <th>1</th>\n",
       "      <td>1462</td>\n",
       "      <td>172723.048536</td>\n",
       "    </tr>\n",
       "    <tr>\n",
       "      <th>2</th>\n",
       "      <td>1463</td>\n",
       "      <td>167616.287979</td>\n",
       "    </tr>\n",
       "    <tr>\n",
       "      <th>3</th>\n",
       "      <td>1464</td>\n",
       "      <td>188443.181987</td>\n",
       "    </tr>\n",
       "    <tr>\n",
       "      <th>4</th>\n",
       "      <td>1465</td>\n",
       "      <td>191754.563292</td>\n",
       "    </tr>\n",
       "  </tbody>\n",
       "</table>\n",
       "</div>"
      ],
      "text/plain": [
       "     Id      SalePrice\n",
       "0  1461  125489.083410\n",
       "1  1462  172723.048536\n",
       "2  1463  167616.287979\n",
       "3  1464  188443.181987\n",
       "4  1465  191754.563292"
      ]
     },
     "execution_count": 43,
     "metadata": {
      "tags": []
     },
     "output_type": "execute_result"
    }
   ],
   "source": [
    "submission.head()"
   ]
  },
  {
   "cell_type": "code",
   "execution_count": 44,
   "metadata": {
    "id": "wBUzvOvQ7vR3"
   },
   "outputs": [],
   "source": [
    "#converts dataframe to proper csv format to submit to kaggle\n",
    "submission[['Id', 'SalePrice']].to_csv('submission_1.csv', index=False)"
   ]
  },
  {
   "cell_type": "code",
   "execution_count": null,
   "metadata": {
    "colab": {
     "base_uri": "https://localhost:8080/"
    },
    "id": "qeWj8MBJ4G-U",
    "outputId": "017b214d-b940-44af-d1f6-55a5debca032"
   },
   "outputs": [
    {
     "name": "stdout",
     "output_type": "stream",
     "text": [
      "Warning: Looks like you're using an outdated API Version, please consider updating (server 1.5.10 / client 1.5.4)\n",
      "100% 33.6k/33.6k [00:00<00:00, 109kB/s]\n",
      "Successfully submitted to House Prices - Advanced Regression Techniques"
     ]
    }
   ],
   "source": [
    "#submits final csv to kaggle competition\n",
    "!kaggle competitions submit house-prices-advanced-regression-techniques -f submission_1.csv -m \"Submit 1: XGB Regressor, Goolge Colab.\""
   ]
  },
  {
   "cell_type": "markdown",
   "metadata": {
    "id": "MIjrdmDM8uwD"
   },
   "source": [
    "# **Final Score:** .13474\n",
    ">All machine learning models follow similar steps, the data must be imported, it must be prepared someway for the model, and then the data needs to be fed through the model while monitoring the score, all in attempt to build a model that generalizes the best to real world data. That being said, the way that one goes about this varies from project to project and there really is no one way to do something. It takes experimentation to find the best preprocessing steps for the data, and then it takes experimentation to build the best model with the best hyperparameters. \n",
    "\n",
    "> Checkout Kaggle for different datasets and learning resources on different models\n",
    "\n",
    "> And checkout the book Hands-On Machine Learning with Scikit-Learn, Keras, and TensorFlow by Aurélien Géron\n",
    "\n",
    "**Best of Luck with your projects**\n",
    "\n",
    "Feel free to reach out with questions"
   ]
  }
 ],
 "metadata": {
  "colab": {
   "collapsed_sections": [
    "CEZsLBZSb8lr",
    "UTA4yP7NXooz",
    "pyTR5SedX2-i",
    "h_HZC-QYUrYS",
    "LCUKuMkGAqm3",
    "gPUqnagnMuk4",
    "QrdxSEAGPCog",
    "rjUA3Xidzqxt",
    "tLlOPEtOPUaF",
    "-OuXMPdAcGIl"
   ],
   "name": "Final Project Finished.ipynb",
   "provenance": []
  },
  "kernelspec": {
   "display_name": "Python 3",
   "language": "python",
   "name": "python3"
  },
  "language_info": {
   "codemirror_mode": {
    "name": "ipython",
    "version": 3
   },
   "file_extension": ".py",
   "mimetype": "text/x-python",
   "name": "python",
   "nbconvert_exporter": "python",
   "pygments_lexer": "ipython3",
   "version": "3.8.8"
  }
 },
 "nbformat": 4,
 "nbformat_minor": 1
}
